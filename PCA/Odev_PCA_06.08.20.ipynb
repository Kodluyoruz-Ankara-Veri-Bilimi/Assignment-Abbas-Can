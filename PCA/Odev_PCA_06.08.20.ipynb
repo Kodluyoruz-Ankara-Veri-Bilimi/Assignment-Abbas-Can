{
 "cells": [
  {
   "cell_type": "code",
   "execution_count": 152,
   "metadata": {},
   "outputs": [],
   "source": [
    "import pandas as pd\n",
    "import numpy as np\n",
    "import seaborn as sns\n",
    "import matplotlib.pyplot as plt\n",
    "\n",
    "from sklearn.decomposition import PCA\n",
    "from sklearn.preprocessing import scale\n",
    "from sklearn.model_selection import train_test_split\n",
    "\n",
    "from sklearn.model_selection import train_test_split, cross_val_score, cross_val_predict\n",
    "import statsmodels.api as sm\n",
    "\n",
    "from scipy.stats import shapiro"
   ]
  },
  {
   "cell_type": "code",
   "execution_count": 153,
   "metadata": {},
   "outputs": [],
   "source": [
    "veri_seti = pd.read_excel('HW_Data_Set.xlsx')\n",
    "df = veri_seti.copy()"
   ]
  },
  {
   "cell_type": "code",
   "execution_count": 154,
   "metadata": {},
   "outputs": [
    {
     "data": {
      "text/html": [
       "<div>\n",
       "<style scoped>\n",
       "    .dataframe tbody tr th:only-of-type {\n",
       "        vertical-align: middle;\n",
       "    }\n",
       "\n",
       "    .dataframe tbody tr th {\n",
       "        vertical-align: top;\n",
       "    }\n",
       "\n",
       "    .dataframe thead th {\n",
       "        text-align: right;\n",
       "    }\n",
       "</style>\n",
       "<table border=\"1\" class=\"dataframe\">\n",
       "  <thead>\n",
       "    <tr style=\"text-align: right;\">\n",
       "      <th></th>\n",
       "      <th>ind_5</th>\n",
       "      <th>ind_6</th>\n",
       "      <th>ind_8</th>\n",
       "      <th>ind_9</th>\n",
       "      <th>ind_10</th>\n",
       "      <th>ind_12</th>\n",
       "      <th>ind_13</th>\n",
       "      <th>ind_14</th>\n",
       "      <th>ind_15</th>\n",
       "      <th>ind_16</th>\n",
       "      <th>...</th>\n",
       "      <th>ind_416</th>\n",
       "      <th>ind_418</th>\n",
       "      <th>ind_420</th>\n",
       "      <th>ind_422</th>\n",
       "      <th>ind_424</th>\n",
       "      <th>ind_426</th>\n",
       "      <th>ind_428</th>\n",
       "      <th>20_target</th>\n",
       "      <th>50_target</th>\n",
       "      <th>90_target</th>\n",
       "    </tr>\n",
       "  </thead>\n",
       "  <tbody>\n",
       "    <tr>\n",
       "      <th>0</th>\n",
       "      <td>19</td>\n",
       "      <td>17</td>\n",
       "      <td>100.0</td>\n",
       "      <td>85.714286</td>\n",
       "      <td>14.285714</td>\n",
       "      <td>72.363515</td>\n",
       "      <td>60.808814</td>\n",
       "      <td>23.80</td>\n",
       "      <td>17.62</td>\n",
       "      <td>11.73</td>\n",
       "      <td>...</td>\n",
       "      <td>-49.6</td>\n",
       "      <td>-54</td>\n",
       "      <td>-152</td>\n",
       "      <td>-353</td>\n",
       "      <td>1.0</td>\n",
       "      <td>0.498547</td>\n",
       "      <td>0.701906</td>\n",
       "      <td>15.135802</td>\n",
       "      <td>35.625252</td>\n",
       "      <td>36.997753</td>\n",
       "    </tr>\n",
       "    <tr>\n",
       "      <th>1</th>\n",
       "      <td>24</td>\n",
       "      <td>19</td>\n",
       "      <td>100.0</td>\n",
       "      <td>78.571429</td>\n",
       "      <td>21.428571</td>\n",
       "      <td>74.275883</td>\n",
       "      <td>64.366798</td>\n",
       "      <td>11.45</td>\n",
       "      <td>18.16</td>\n",
       "      <td>12.22</td>\n",
       "      <td>...</td>\n",
       "      <td>-55.6</td>\n",
       "      <td>-60</td>\n",
       "      <td>-158</td>\n",
       "      <td>-359</td>\n",
       "      <td>1.0</td>\n",
       "      <td>0.537088</td>\n",
       "      <td>0.690833</td>\n",
       "      <td>15.143348</td>\n",
       "      <td>35.643013</td>\n",
       "      <td>37.016198</td>\n",
       "    </tr>\n",
       "    <tr>\n",
       "      <th>2</th>\n",
       "      <td>30</td>\n",
       "      <td>24</td>\n",
       "      <td>100.0</td>\n",
       "      <td>71.428571</td>\n",
       "      <td>28.571429</td>\n",
       "      <td>75.140402</td>\n",
       "      <td>65.915803</td>\n",
       "      <td>8.75</td>\n",
       "      <td>17.86</td>\n",
       "      <td>12.28</td>\n",
       "      <td>...</td>\n",
       "      <td>-58.4</td>\n",
       "      <td>-60</td>\n",
       "      <td>-160</td>\n",
       "      <td>-362</td>\n",
       "      <td>1.0</td>\n",
       "      <td>0.615169</td>\n",
       "      <td>0.693040</td>\n",
       "      <td>15.146870</td>\n",
       "      <td>35.651301</td>\n",
       "      <td>-37.024805</td>\n",
       "    </tr>\n",
       "    <tr>\n",
       "      <th>3</th>\n",
       "      <td>37</td>\n",
       "      <td>30</td>\n",
       "      <td>100.0</td>\n",
       "      <td>64.285714</td>\n",
       "      <td>35.714286</td>\n",
       "      <td>76.677846</td>\n",
       "      <td>68.584234</td>\n",
       "      <td>7.80</td>\n",
       "      <td>14.76</td>\n",
       "      <td>12.61</td>\n",
       "      <td>...</td>\n",
       "      <td>-61.8</td>\n",
       "      <td>-65</td>\n",
       "      <td>-166</td>\n",
       "      <td>-367</td>\n",
       "      <td>1.0</td>\n",
       "      <td>0.661517</td>\n",
       "      <td>0.673418</td>\n",
       "      <td>15.153283</td>\n",
       "      <td>0.000000</td>\n",
       "      <td>-37.040483</td>\n",
       "    </tr>\n",
       "    <tr>\n",
       "      <th>4</th>\n",
       "      <td>41</td>\n",
       "      <td>37</td>\n",
       "      <td>100.0</td>\n",
       "      <td>57.142857</td>\n",
       "      <td>42.857143</td>\n",
       "      <td>81.603007</td>\n",
       "      <td>76.455495</td>\n",
       "      <td>14.90</td>\n",
       "      <td>11.92</td>\n",
       "      <td>14.25</td>\n",
       "      <td>...</td>\n",
       "      <td>-79.8</td>\n",
       "      <td>-86</td>\n",
       "      <td>-186</td>\n",
       "      <td>-388</td>\n",
       "      <td>1.0</td>\n",
       "      <td>0.747204</td>\n",
       "      <td>0.700522</td>\n",
       "      <td>-15.179065</td>\n",
       "      <td>-35.727079</td>\n",
       "      <td>-37.103503</td>\n",
       "    </tr>\n",
       "  </tbody>\n",
       "</table>\n",
       "<p>5 rows × 136 columns</p>\n",
       "</div>"
      ],
      "text/plain": [
       "   ind_5  ind_6  ind_8      ind_9     ind_10     ind_12     ind_13  ind_14  \\\n",
       "0     19     17  100.0  85.714286  14.285714  72.363515  60.808814   23.80   \n",
       "1     24     19  100.0  78.571429  21.428571  74.275883  64.366798   11.45   \n",
       "2     30     24  100.0  71.428571  28.571429  75.140402  65.915803    8.75   \n",
       "3     37     30  100.0  64.285714  35.714286  76.677846  68.584234    7.80   \n",
       "4     41     37  100.0  57.142857  42.857143  81.603007  76.455495   14.90   \n",
       "\n",
       "   ind_15  ind_16  ...  ind_416  ind_418  ind_420  ind_422  ind_424   ind_426  \\\n",
       "0   17.62   11.73  ...    -49.6      -54     -152     -353      1.0  0.498547   \n",
       "1   18.16   12.22  ...    -55.6      -60     -158     -359      1.0  0.537088   \n",
       "2   17.86   12.28  ...    -58.4      -60     -160     -362      1.0  0.615169   \n",
       "3   14.76   12.61  ...    -61.8      -65     -166     -367      1.0  0.661517   \n",
       "4   11.92   14.25  ...    -79.8      -86     -186     -388      1.0  0.747204   \n",
       "\n",
       "    ind_428  20_target  50_target  90_target  \n",
       "0  0.701906  15.135802  35.625252  36.997753  \n",
       "1  0.690833  15.143348  35.643013  37.016198  \n",
       "2  0.693040  15.146870  35.651301 -37.024805  \n",
       "3  0.673418  15.153283   0.000000 -37.040483  \n",
       "4  0.700522 -15.179065 -35.727079 -37.103503  \n",
       "\n",
       "[5 rows x 136 columns]"
      ]
     },
     "execution_count": 154,
     "metadata": {},
     "output_type": "execute_result"
    }
   ],
   "source": [
    "df.head(5)"
   ]
  },
  {
   "cell_type": "code",
   "execution_count": 155,
   "metadata": {},
   "outputs": [],
   "source": [
    "df['ind_420'] = pd.to_numeric(df['ind_420'], errors='coerce')\n",
    "df['ind_422'] = pd.to_numeric(df['ind_422'], errors='coerce')"
   ]
  },
  {
   "cell_type": "code",
   "execution_count": 156,
   "metadata": {},
   "outputs": [],
   "source": [
    "df[\"ind_422\"].fillna(df[\"ind_422\"].median(), inplace=True)\n",
    "df[\"ind_420\"].fillna(df[\"ind_420\"].median(), inplace=True)"
   ]
  },
  {
   "cell_type": "code",
   "execution_count": 157,
   "metadata": {},
   "outputs": [],
   "source": [
    "df_dummies = pd.get_dummies(df)"
   ]
  },
  {
   "cell_type": "code",
   "execution_count": 158,
   "metadata": {},
   "outputs": [],
   "source": [
    "X = df_dummies.drop([\"20_target\",\"50_target\",\"90_target\"], axis = 1)\n",
    "y = df_dummies[\"50_target\"]"
   ]
  },
  {
   "cell_type": "code",
   "execution_count": 159,
   "metadata": {},
   "outputs": [],
   "source": [
    "X_train, X_test, y_train, y_test = train_test_split(X, y, test_size = 0.20)"
   ]
  },
  {
   "cell_type": "code",
   "execution_count": 174,
   "metadata": {},
   "outputs": [],
   "source": [
    "pca = PCA(n_components=10)"
   ]
  },
  {
   "cell_type": "code",
   "execution_count": 175,
   "metadata": {},
   "outputs": [],
   "source": [
    "X_reduced_train = pca.fit_transform(scale(X_train))\n",
    "X_reduced_test = pca.fit_transform(scale(X_test))"
   ]
  },
  {
   "cell_type": "code",
   "execution_count": 176,
   "metadata": {},
   "outputs": [
    {
     "data": {
      "text/plain": [
       "array([[-5.87519791,  2.1200352 ,  0.76472715, -1.38206528, -2.37568304,\n",
       "        -0.79587704, -0.77203453,  0.47326875,  1.65633009,  0.42109374]])"
      ]
     },
     "execution_count": 176,
     "metadata": {},
     "output_type": "execute_result"
    }
   ],
   "source": [
    "X_reduced_train[0:1,:]"
   ]
  },
  {
   "cell_type": "code",
   "execution_count": 177,
   "metadata": {},
   "outputs": [
    {
     "data": {
      "text/plain": [
       "array([36.01, 48.72, 54.76, 59.34, 62.6 , 65.55, 68.26, 70.37, 72.3 ,\n",
       "       73.91])"
      ]
     },
     "execution_count": 177,
     "metadata": {},
     "output_type": "execute_result"
    }
   ],
   "source": [
    "np.cumsum(np.round(pca.explained_variance_ratio_, decimals = 4) * 100)"
   ]
  },
  {
   "cell_type": "code",
   "execution_count": 178,
   "metadata": {},
   "outputs": [],
   "source": [
    "from sklearn.linear_model import LinearRegression"
   ]
  },
  {
   "cell_type": "code",
   "execution_count": 179,
   "metadata": {},
   "outputs": [],
   "source": [
    "lm = LinearRegression()"
   ]
  },
  {
   "cell_type": "code",
   "execution_count": 180,
   "metadata": {},
   "outputs": [],
   "source": [
    "pcr_model = lm.fit(X_reduced_train, y_train)"
   ]
  },
  {
   "cell_type": "code",
   "execution_count": 181,
   "metadata": {},
   "outputs": [],
   "source": [
    "y_pred = pcr_model.predict(X_reduced_test)"
   ]
  },
  {
   "cell_type": "code",
   "execution_count": 182,
   "metadata": {},
   "outputs": [
    {
     "data": {
      "text/plain": [
       "-3.133597255351713"
      ]
     },
     "execution_count": 182,
     "metadata": {},
     "output_type": "execute_result"
    }
   ],
   "source": [
    "pcr_model.intercept_"
   ]
  },
  {
   "cell_type": "code",
   "execution_count": 183,
   "metadata": {},
   "outputs": [
    {
     "data": {
      "text/plain": [
       "array([-0.24696371,  0.37827847,  0.79255716,  1.1765228 , -1.12236198,\n",
       "       -0.40186523,  0.41073398,  0.36960798, -0.85320284, -1.41407544])"
      ]
     },
     "execution_count": 183,
     "metadata": {},
     "output_type": "execute_result"
    }
   ],
   "source": [
    "pcr_model.coef_"
   ]
  },
  {
   "cell_type": "code",
   "execution_count": 184,
   "metadata": {},
   "outputs": [
    {
     "name": "stdout",
     "output_type": "stream",
     "text": [
      "                                 OLS Regression Results                                \n",
      "=======================================================================================\n",
      "Dep. Variable:              50_target   R-squared (uncentered):                   0.026\n",
      "Model:                            OLS   Adj. R-squared (uncentered):              0.024\n",
      "Method:                 Least Squares   F-statistic:                              13.25\n",
      "Date:                Thu, 06 Aug 2020   Prob (F-statistic):                    3.16e-23\n",
      "Time:                        16:47:56   Log-Likelihood:                         -24427.\n",
      "No. Observations:                4933   AIC:                                  4.887e+04\n",
      "Df Residuals:                    4923   BIC:                                  4.894e+04\n",
      "Df Model:                          10                                                  \n",
      "Covariance Type:            nonrobust                                                  \n",
      "==============================================================================\n",
      "                 coef    std err          t      P>|t|      [0.025      0.975]\n",
      "------------------------------------------------------------------------------\n",
      "x1            -0.2470      0.069     -3.558      0.000      -0.383      -0.111\n",
      "x2             0.3783      0.120      3.149      0.002       0.143       0.614\n",
      "x3             0.7926      0.173      4.577      0.000       0.453       1.132\n",
      "x4             1.1765      0.202      5.824      0.000       0.780       1.573\n",
      "x5            -1.1224      0.236     -4.763      0.000      -1.584      -0.660\n",
      "x6            -0.4019      0.243     -1.654      0.098      -0.878       0.074\n",
      "x7             0.4107      0.259      1.586      0.113      -0.097       0.919\n",
      "x8             0.3696      0.299      1.237      0.216      -0.216       0.956\n",
      "x9            -0.8532      0.311     -2.741      0.006      -1.463      -0.243\n",
      "x10           -1.4141      0.333     -4.248      0.000      -2.067      -0.762\n",
      "==============================================================================\n",
      "Omnibus:                    19665.842   Durbin-Watson:                   1.957\n",
      "Prob(Omnibus):                  0.000   Jarque-Bera (JB):              686.192\n",
      "Skew:                           0.150   Prob(JB):                    9.89e-150\n",
      "Kurtosis:                       1.198   Cond. No.                         4.80\n",
      "==============================================================================\n",
      "\n",
      "Warnings:\n",
      "[1] Standard Errors assume that the covariance matrix of the errors is correctly specified.\n"
     ]
    }
   ],
   "source": [
    "ols_model = sm.OLS(y_train, X_reduced_train)\n",
    "ols_results = ols_model.fit()\n",
    "print(ols_results.summary())"
   ]
  },
  {
   "cell_type": "code",
   "execution_count": 185,
   "metadata": {},
   "outputs": [],
   "source": [
    "h = pd.DataFrame(X_reduced_train)"
   ]
  },
  {
   "cell_type": "code",
   "execution_count": 186,
   "metadata": {},
   "outputs": [
    {
     "data": {
      "text/html": [
       "<div>\n",
       "<style scoped>\n",
       "    .dataframe tbody tr th:only-of-type {\n",
       "        vertical-align: middle;\n",
       "    }\n",
       "\n",
       "    .dataframe tbody tr th {\n",
       "        vertical-align: top;\n",
       "    }\n",
       "\n",
       "    .dataframe thead th {\n",
       "        text-align: right;\n",
       "    }\n",
       "</style>\n",
       "<table border=\"1\" class=\"dataframe\">\n",
       "  <thead>\n",
       "    <tr style=\"text-align: right;\">\n",
       "      <th></th>\n",
       "      <th>0</th>\n",
       "      <th>1</th>\n",
       "      <th>2</th>\n",
       "      <th>3</th>\n",
       "      <th>4</th>\n",
       "      <th>5</th>\n",
       "      <th>6</th>\n",
       "      <th>7</th>\n",
       "      <th>8</th>\n",
       "      <th>9</th>\n",
       "    </tr>\n",
       "  </thead>\n",
       "  <tbody>\n",
       "    <tr>\n",
       "      <th>0</th>\n",
       "      <td>-5.875198</td>\n",
       "      <td>2.120035</td>\n",
       "      <td>0.764727</td>\n",
       "      <td>-1.382065</td>\n",
       "      <td>-2.375683</td>\n",
       "      <td>-0.795877</td>\n",
       "      <td>-0.772035</td>\n",
       "      <td>0.473269</td>\n",
       "      <td>1.656330</td>\n",
       "      <td>0.421094</td>\n",
       "    </tr>\n",
       "    <tr>\n",
       "      <th>1</th>\n",
       "      <td>1.798521</td>\n",
       "      <td>0.428656</td>\n",
       "      <td>-1.948088</td>\n",
       "      <td>-3.539169</td>\n",
       "      <td>0.090476</td>\n",
       "      <td>0.539538</td>\n",
       "      <td>0.721358</td>\n",
       "      <td>0.030516</td>\n",
       "      <td>-0.286882</td>\n",
       "      <td>0.409644</td>\n",
       "    </tr>\n",
       "    <tr>\n",
       "      <th>2</th>\n",
       "      <td>1.237580</td>\n",
       "      <td>-4.089656</td>\n",
       "      <td>0.436131</td>\n",
       "      <td>-1.419806</td>\n",
       "      <td>1.687714</td>\n",
       "      <td>-0.929388</td>\n",
       "      <td>-0.787501</td>\n",
       "      <td>0.837756</td>\n",
       "      <td>0.377858</td>\n",
       "      <td>-1.219411</td>\n",
       "    </tr>\n",
       "    <tr>\n",
       "      <th>3</th>\n",
       "      <td>-1.693621</td>\n",
       "      <td>-0.379817</td>\n",
       "      <td>-3.150195</td>\n",
       "      <td>-2.514710</td>\n",
       "      <td>1.115984</td>\n",
       "      <td>-0.824596</td>\n",
       "      <td>0.616299</td>\n",
       "      <td>0.501115</td>\n",
       "      <td>0.614425</td>\n",
       "      <td>0.616934</td>\n",
       "    </tr>\n",
       "    <tr>\n",
       "      <th>4</th>\n",
       "      <td>-3.938794</td>\n",
       "      <td>6.622288</td>\n",
       "      <td>0.359497</td>\n",
       "      <td>-1.642777</td>\n",
       "      <td>0.120389</td>\n",
       "      <td>-1.444846</td>\n",
       "      <td>0.179176</td>\n",
       "      <td>-0.240171</td>\n",
       "      <td>0.771673</td>\n",
       "      <td>0.236218</td>\n",
       "    </tr>\n",
       "    <tr>\n",
       "      <th>...</th>\n",
       "      <td>...</td>\n",
       "      <td>...</td>\n",
       "      <td>...</td>\n",
       "      <td>...</td>\n",
       "      <td>...</td>\n",
       "      <td>...</td>\n",
       "      <td>...</td>\n",
       "      <td>...</td>\n",
       "      <td>...</td>\n",
       "      <td>...</td>\n",
       "    </tr>\n",
       "    <tr>\n",
       "      <th>4928</th>\n",
       "      <td>-6.496998</td>\n",
       "      <td>4.274665</td>\n",
       "      <td>0.779084</td>\n",
       "      <td>1.123460</td>\n",
       "      <td>-1.252386</td>\n",
       "      <td>-0.008658</td>\n",
       "      <td>2.324180</td>\n",
       "      <td>-0.828990</td>\n",
       "      <td>0.042057</td>\n",
       "      <td>0.540070</td>\n",
       "    </tr>\n",
       "    <tr>\n",
       "      <th>4929</th>\n",
       "      <td>-0.904891</td>\n",
       "      <td>7.052396</td>\n",
       "      <td>1.316040</td>\n",
       "      <td>-4.503613</td>\n",
       "      <td>0.289943</td>\n",
       "      <td>-0.004298</td>\n",
       "      <td>-1.187593</td>\n",
       "      <td>-1.638716</td>\n",
       "      <td>0.395623</td>\n",
       "      <td>-1.897231</td>\n",
       "    </tr>\n",
       "    <tr>\n",
       "      <th>4930</th>\n",
       "      <td>-6.894614</td>\n",
       "      <td>-3.407619</td>\n",
       "      <td>1.663804</td>\n",
       "      <td>-2.198791</td>\n",
       "      <td>0.154412</td>\n",
       "      <td>-2.157238</td>\n",
       "      <td>-1.803816</td>\n",
       "      <td>0.760121</td>\n",
       "      <td>1.478579</td>\n",
       "      <td>0.638922</td>\n",
       "    </tr>\n",
       "    <tr>\n",
       "      <th>4931</th>\n",
       "      <td>1.095753</td>\n",
       "      <td>0.210538</td>\n",
       "      <td>-5.056835</td>\n",
       "      <td>0.395941</td>\n",
       "      <td>1.936080</td>\n",
       "      <td>-0.469435</td>\n",
       "      <td>1.150887</td>\n",
       "      <td>0.544780</td>\n",
       "      <td>-1.125014</td>\n",
       "      <td>1.205283</td>\n",
       "    </tr>\n",
       "    <tr>\n",
       "      <th>4932</th>\n",
       "      <td>9.320994</td>\n",
       "      <td>-3.662750</td>\n",
       "      <td>0.455221</td>\n",
       "      <td>-1.386049</td>\n",
       "      <td>0.345327</td>\n",
       "      <td>1.218582</td>\n",
       "      <td>-0.974062</td>\n",
       "      <td>-0.766177</td>\n",
       "      <td>0.490810</td>\n",
       "      <td>0.206303</td>\n",
       "    </tr>\n",
       "  </tbody>\n",
       "</table>\n",
       "<p>4933 rows × 10 columns</p>\n",
       "</div>"
      ],
      "text/plain": [
       "             0         1         2         3         4         5         6  \\\n",
       "0    -5.875198  2.120035  0.764727 -1.382065 -2.375683 -0.795877 -0.772035   \n",
       "1     1.798521  0.428656 -1.948088 -3.539169  0.090476  0.539538  0.721358   \n",
       "2     1.237580 -4.089656  0.436131 -1.419806  1.687714 -0.929388 -0.787501   \n",
       "3    -1.693621 -0.379817 -3.150195 -2.514710  1.115984 -0.824596  0.616299   \n",
       "4    -3.938794  6.622288  0.359497 -1.642777  0.120389 -1.444846  0.179176   \n",
       "...        ...       ...       ...       ...       ...       ...       ...   \n",
       "4928 -6.496998  4.274665  0.779084  1.123460 -1.252386 -0.008658  2.324180   \n",
       "4929 -0.904891  7.052396  1.316040 -4.503613  0.289943 -0.004298 -1.187593   \n",
       "4930 -6.894614 -3.407619  1.663804 -2.198791  0.154412 -2.157238 -1.803816   \n",
       "4931  1.095753  0.210538 -5.056835  0.395941  1.936080 -0.469435  1.150887   \n",
       "4932  9.320994 -3.662750  0.455221 -1.386049  0.345327  1.218582 -0.974062   \n",
       "\n",
       "             7         8         9  \n",
       "0     0.473269  1.656330  0.421094  \n",
       "1     0.030516 -0.286882  0.409644  \n",
       "2     0.837756  0.377858 -1.219411  \n",
       "3     0.501115  0.614425  0.616934  \n",
       "4    -0.240171  0.771673  0.236218  \n",
       "...        ...       ...       ...  \n",
       "4928 -0.828990  0.042057  0.540070  \n",
       "4929 -1.638716  0.395623 -1.897231  \n",
       "4930  0.760121  1.478579  0.638922  \n",
       "4931  0.544780 -1.125014  1.205283  \n",
       "4932 -0.766177  0.490810  0.206303  \n",
       "\n",
       "[4933 rows x 10 columns]"
      ]
     },
     "execution_count": 186,
     "metadata": {},
     "output_type": "execute_result"
    }
   ],
   "source": [
    "h"
   ]
  },
  {
   "cell_type": "code",
   "execution_count": 187,
   "metadata": {},
   "outputs": [],
   "source": [
    "k = h.drop(7, axis = 1)\n",
    "u= k.to_numpy()"
   ]
  },
  {
   "cell_type": "code",
   "execution_count": 188,
   "metadata": {},
   "outputs": [
    {
     "name": "stdout",
     "output_type": "stream",
     "text": [
      "                                 OLS Regression Results                                \n",
      "=======================================================================================\n",
      "Dep. Variable:              50_target   R-squared (uncentered):                   0.026\n",
      "Model:                            OLS   Adj. R-squared (uncentered):              0.024\n",
      "Method:                 Least Squares   F-statistic:                              14.55\n",
      "Date:                Thu, 06 Aug 2020   Prob (F-statistic):                    1.64e-23\n",
      "Time:                        16:47:56   Log-Likelihood:                         -24428.\n",
      "No. Observations:                4933   AIC:                                  4.887e+04\n",
      "Df Residuals:                    4924   BIC:                                  4.893e+04\n",
      "Df Model:                           9                                                  \n",
      "Covariance Type:            nonrobust                                                  \n",
      "==============================================================================\n",
      "                 coef    std err          t      P>|t|      [0.025      0.975]\n",
      "------------------------------------------------------------------------------\n",
      "x1            -0.2470      0.069     -3.558      0.000      -0.383      -0.111\n",
      "x2             0.3783      0.120      3.149      0.002       0.143       0.614\n",
      "x3             0.7926      0.173      4.577      0.000       0.453       1.132\n",
      "x4             1.1765      0.202      5.823      0.000       0.780       1.573\n",
      "x5            -1.1224      0.236     -4.763      0.000      -1.584      -0.660\n",
      "x6            -0.4019      0.243     -1.654      0.098      -0.878       0.074\n",
      "x7             0.4107      0.259      1.586      0.113      -0.097       0.919\n",
      "x8            -0.8532      0.311     -2.741      0.006      -1.463      -0.243\n",
      "x9            -1.4141      0.333     -4.248      0.000      -2.067      -0.761\n",
      "==============================================================================\n",
      "Omnibus:                    19649.782   Durbin-Watson:                   1.957\n",
      "Prob(Omnibus):                  0.000   Jarque-Bera (JB):              686.881\n",
      "Skew:                           0.150   Prob(JB):                    7.01e-150\n",
      "Kurtosis:                       1.197   Cond. No.                         4.80\n",
      "==============================================================================\n",
      "\n",
      "Warnings:\n",
      "[1] Standard Errors assume that the covariance matrix of the errors is correctly specified.\n"
     ]
    }
   ],
   "source": [
    "ols_model = sm.OLS(y_train, u)\n",
    "ols_results = ols_model.fit()\n",
    "print(ols_results.summary())"
   ]
  },
  {
   "cell_type": "code",
   "execution_count": 189,
   "metadata": {},
   "outputs": [],
   "source": [
    "k = h.drop(6, axis = 1)\n"
   ]
  },
  {
   "cell_type": "code",
   "execution_count": 190,
   "metadata": {},
   "outputs": [
    {
     "data": {
      "text/html": [
       "<div>\n",
       "<style scoped>\n",
       "    .dataframe tbody tr th:only-of-type {\n",
       "        vertical-align: middle;\n",
       "    }\n",
       "\n",
       "    .dataframe tbody tr th {\n",
       "        vertical-align: top;\n",
       "    }\n",
       "\n",
       "    .dataframe thead th {\n",
       "        text-align: right;\n",
       "    }\n",
       "</style>\n",
       "<table border=\"1\" class=\"dataframe\">\n",
       "  <thead>\n",
       "    <tr style=\"text-align: right;\">\n",
       "      <th></th>\n",
       "      <th>0</th>\n",
       "      <th>1</th>\n",
       "      <th>2</th>\n",
       "      <th>3</th>\n",
       "      <th>4</th>\n",
       "      <th>5</th>\n",
       "      <th>7</th>\n",
       "      <th>8</th>\n",
       "      <th>9</th>\n",
       "    </tr>\n",
       "  </thead>\n",
       "  <tbody>\n",
       "    <tr>\n",
       "      <th>0</th>\n",
       "      <td>-5.875198</td>\n",
       "      <td>2.120035</td>\n",
       "      <td>0.764727</td>\n",
       "      <td>-1.382065</td>\n",
       "      <td>-2.375683</td>\n",
       "      <td>-0.795877</td>\n",
       "      <td>0.473269</td>\n",
       "      <td>1.656330</td>\n",
       "      <td>0.421094</td>\n",
       "    </tr>\n",
       "    <tr>\n",
       "      <th>1</th>\n",
       "      <td>1.798521</td>\n",
       "      <td>0.428656</td>\n",
       "      <td>-1.948088</td>\n",
       "      <td>-3.539169</td>\n",
       "      <td>0.090476</td>\n",
       "      <td>0.539538</td>\n",
       "      <td>0.030516</td>\n",
       "      <td>-0.286882</td>\n",
       "      <td>0.409644</td>\n",
       "    </tr>\n",
       "    <tr>\n",
       "      <th>2</th>\n",
       "      <td>1.237580</td>\n",
       "      <td>-4.089656</td>\n",
       "      <td>0.436131</td>\n",
       "      <td>-1.419806</td>\n",
       "      <td>1.687714</td>\n",
       "      <td>-0.929388</td>\n",
       "      <td>0.837756</td>\n",
       "      <td>0.377858</td>\n",
       "      <td>-1.219411</td>\n",
       "    </tr>\n",
       "    <tr>\n",
       "      <th>3</th>\n",
       "      <td>-1.693621</td>\n",
       "      <td>-0.379817</td>\n",
       "      <td>-3.150195</td>\n",
       "      <td>-2.514710</td>\n",
       "      <td>1.115984</td>\n",
       "      <td>-0.824596</td>\n",
       "      <td>0.501115</td>\n",
       "      <td>0.614425</td>\n",
       "      <td>0.616934</td>\n",
       "    </tr>\n",
       "    <tr>\n",
       "      <th>4</th>\n",
       "      <td>-3.938794</td>\n",
       "      <td>6.622288</td>\n",
       "      <td>0.359497</td>\n",
       "      <td>-1.642777</td>\n",
       "      <td>0.120389</td>\n",
       "      <td>-1.444846</td>\n",
       "      <td>-0.240171</td>\n",
       "      <td>0.771673</td>\n",
       "      <td>0.236218</td>\n",
       "    </tr>\n",
       "    <tr>\n",
       "      <th>...</th>\n",
       "      <td>...</td>\n",
       "      <td>...</td>\n",
       "      <td>...</td>\n",
       "      <td>...</td>\n",
       "      <td>...</td>\n",
       "      <td>...</td>\n",
       "      <td>...</td>\n",
       "      <td>...</td>\n",
       "      <td>...</td>\n",
       "    </tr>\n",
       "    <tr>\n",
       "      <th>4928</th>\n",
       "      <td>-6.496998</td>\n",
       "      <td>4.274665</td>\n",
       "      <td>0.779084</td>\n",
       "      <td>1.123460</td>\n",
       "      <td>-1.252386</td>\n",
       "      <td>-0.008658</td>\n",
       "      <td>-0.828990</td>\n",
       "      <td>0.042057</td>\n",
       "      <td>0.540070</td>\n",
       "    </tr>\n",
       "    <tr>\n",
       "      <th>4929</th>\n",
       "      <td>-0.904891</td>\n",
       "      <td>7.052396</td>\n",
       "      <td>1.316040</td>\n",
       "      <td>-4.503613</td>\n",
       "      <td>0.289943</td>\n",
       "      <td>-0.004298</td>\n",
       "      <td>-1.638716</td>\n",
       "      <td>0.395623</td>\n",
       "      <td>-1.897231</td>\n",
       "    </tr>\n",
       "    <tr>\n",
       "      <th>4930</th>\n",
       "      <td>-6.894614</td>\n",
       "      <td>-3.407619</td>\n",
       "      <td>1.663804</td>\n",
       "      <td>-2.198791</td>\n",
       "      <td>0.154412</td>\n",
       "      <td>-2.157238</td>\n",
       "      <td>0.760121</td>\n",
       "      <td>1.478579</td>\n",
       "      <td>0.638922</td>\n",
       "    </tr>\n",
       "    <tr>\n",
       "      <th>4931</th>\n",
       "      <td>1.095753</td>\n",
       "      <td>0.210538</td>\n",
       "      <td>-5.056835</td>\n",
       "      <td>0.395941</td>\n",
       "      <td>1.936080</td>\n",
       "      <td>-0.469435</td>\n",
       "      <td>0.544780</td>\n",
       "      <td>-1.125014</td>\n",
       "      <td>1.205283</td>\n",
       "    </tr>\n",
       "    <tr>\n",
       "      <th>4932</th>\n",
       "      <td>9.320994</td>\n",
       "      <td>-3.662750</td>\n",
       "      <td>0.455221</td>\n",
       "      <td>-1.386049</td>\n",
       "      <td>0.345327</td>\n",
       "      <td>1.218582</td>\n",
       "      <td>-0.766177</td>\n",
       "      <td>0.490810</td>\n",
       "      <td>0.206303</td>\n",
       "    </tr>\n",
       "  </tbody>\n",
       "</table>\n",
       "<p>4933 rows × 9 columns</p>\n",
       "</div>"
      ],
      "text/plain": [
       "             0         1         2         3         4         5         7  \\\n",
       "0    -5.875198  2.120035  0.764727 -1.382065 -2.375683 -0.795877  0.473269   \n",
       "1     1.798521  0.428656 -1.948088 -3.539169  0.090476  0.539538  0.030516   \n",
       "2     1.237580 -4.089656  0.436131 -1.419806  1.687714 -0.929388  0.837756   \n",
       "3    -1.693621 -0.379817 -3.150195 -2.514710  1.115984 -0.824596  0.501115   \n",
       "4    -3.938794  6.622288  0.359497 -1.642777  0.120389 -1.444846 -0.240171   \n",
       "...        ...       ...       ...       ...       ...       ...       ...   \n",
       "4928 -6.496998  4.274665  0.779084  1.123460 -1.252386 -0.008658 -0.828990   \n",
       "4929 -0.904891  7.052396  1.316040 -4.503613  0.289943 -0.004298 -1.638716   \n",
       "4930 -6.894614 -3.407619  1.663804 -2.198791  0.154412 -2.157238  0.760121   \n",
       "4931  1.095753  0.210538 -5.056835  0.395941  1.936080 -0.469435  0.544780   \n",
       "4932  9.320994 -3.662750  0.455221 -1.386049  0.345327  1.218582 -0.766177   \n",
       "\n",
       "             8         9  \n",
       "0     1.656330  0.421094  \n",
       "1    -0.286882  0.409644  \n",
       "2     0.377858 -1.219411  \n",
       "3     0.614425  0.616934  \n",
       "4     0.771673  0.236218  \n",
       "...        ...       ...  \n",
       "4928  0.042057  0.540070  \n",
       "4929  0.395623 -1.897231  \n",
       "4930  1.478579  0.638922  \n",
       "4931 -1.125014  1.205283  \n",
       "4932  0.490810  0.206303  \n",
       "\n",
       "[4933 rows x 9 columns]"
      ]
     },
     "execution_count": 190,
     "metadata": {},
     "output_type": "execute_result"
    }
   ],
   "source": [
    "k"
   ]
  },
  {
   "cell_type": "code",
   "execution_count": 191,
   "metadata": {},
   "outputs": [],
   "source": [
    "o = k.drop(7 , axis = 1)\n",
    "p = o.drop(5 , axis = 1)\n",
    "g = p.drop(8 , axis = 1)\n",
    "u= g.to_numpy()"
   ]
  },
  {
   "cell_type": "code",
   "execution_count": 192,
   "metadata": {},
   "outputs": [
    {
     "data": {
      "text/html": [
       "<div>\n",
       "<style scoped>\n",
       "    .dataframe tbody tr th:only-of-type {\n",
       "        vertical-align: middle;\n",
       "    }\n",
       "\n",
       "    .dataframe tbody tr th {\n",
       "        vertical-align: top;\n",
       "    }\n",
       "\n",
       "    .dataframe thead th {\n",
       "        text-align: right;\n",
       "    }\n",
       "</style>\n",
       "<table border=\"1\" class=\"dataframe\">\n",
       "  <thead>\n",
       "    <tr style=\"text-align: right;\">\n",
       "      <th></th>\n",
       "      <th>0</th>\n",
       "      <th>1</th>\n",
       "      <th>2</th>\n",
       "      <th>3</th>\n",
       "      <th>4</th>\n",
       "      <th>9</th>\n",
       "    </tr>\n",
       "  </thead>\n",
       "  <tbody>\n",
       "    <tr>\n",
       "      <th>0</th>\n",
       "      <td>-5.875198</td>\n",
       "      <td>2.120035</td>\n",
       "      <td>0.764727</td>\n",
       "      <td>-1.382065</td>\n",
       "      <td>-2.375683</td>\n",
       "      <td>0.421094</td>\n",
       "    </tr>\n",
       "    <tr>\n",
       "      <th>1</th>\n",
       "      <td>1.798521</td>\n",
       "      <td>0.428656</td>\n",
       "      <td>-1.948088</td>\n",
       "      <td>-3.539169</td>\n",
       "      <td>0.090476</td>\n",
       "      <td>0.409644</td>\n",
       "    </tr>\n",
       "    <tr>\n",
       "      <th>2</th>\n",
       "      <td>1.237580</td>\n",
       "      <td>-4.089656</td>\n",
       "      <td>0.436131</td>\n",
       "      <td>-1.419806</td>\n",
       "      <td>1.687714</td>\n",
       "      <td>-1.219411</td>\n",
       "    </tr>\n",
       "    <tr>\n",
       "      <th>3</th>\n",
       "      <td>-1.693621</td>\n",
       "      <td>-0.379817</td>\n",
       "      <td>-3.150195</td>\n",
       "      <td>-2.514710</td>\n",
       "      <td>1.115984</td>\n",
       "      <td>0.616934</td>\n",
       "    </tr>\n",
       "    <tr>\n",
       "      <th>4</th>\n",
       "      <td>-3.938794</td>\n",
       "      <td>6.622288</td>\n",
       "      <td>0.359497</td>\n",
       "      <td>-1.642777</td>\n",
       "      <td>0.120389</td>\n",
       "      <td>0.236218</td>\n",
       "    </tr>\n",
       "    <tr>\n",
       "      <th>...</th>\n",
       "      <td>...</td>\n",
       "      <td>...</td>\n",
       "      <td>...</td>\n",
       "      <td>...</td>\n",
       "      <td>...</td>\n",
       "      <td>...</td>\n",
       "    </tr>\n",
       "    <tr>\n",
       "      <th>4928</th>\n",
       "      <td>-6.496998</td>\n",
       "      <td>4.274665</td>\n",
       "      <td>0.779084</td>\n",
       "      <td>1.123460</td>\n",
       "      <td>-1.252386</td>\n",
       "      <td>0.540070</td>\n",
       "    </tr>\n",
       "    <tr>\n",
       "      <th>4929</th>\n",
       "      <td>-0.904891</td>\n",
       "      <td>7.052396</td>\n",
       "      <td>1.316040</td>\n",
       "      <td>-4.503613</td>\n",
       "      <td>0.289943</td>\n",
       "      <td>-1.897231</td>\n",
       "    </tr>\n",
       "    <tr>\n",
       "      <th>4930</th>\n",
       "      <td>-6.894614</td>\n",
       "      <td>-3.407619</td>\n",
       "      <td>1.663804</td>\n",
       "      <td>-2.198791</td>\n",
       "      <td>0.154412</td>\n",
       "      <td>0.638922</td>\n",
       "    </tr>\n",
       "    <tr>\n",
       "      <th>4931</th>\n",
       "      <td>1.095753</td>\n",
       "      <td>0.210538</td>\n",
       "      <td>-5.056835</td>\n",
       "      <td>0.395941</td>\n",
       "      <td>1.936080</td>\n",
       "      <td>1.205283</td>\n",
       "    </tr>\n",
       "    <tr>\n",
       "      <th>4932</th>\n",
       "      <td>9.320994</td>\n",
       "      <td>-3.662750</td>\n",
       "      <td>0.455221</td>\n",
       "      <td>-1.386049</td>\n",
       "      <td>0.345327</td>\n",
       "      <td>0.206303</td>\n",
       "    </tr>\n",
       "  </tbody>\n",
       "</table>\n",
       "<p>4933 rows × 6 columns</p>\n",
       "</div>"
      ],
      "text/plain": [
       "             0         1         2         3         4         9\n",
       "0    -5.875198  2.120035  0.764727 -1.382065 -2.375683  0.421094\n",
       "1     1.798521  0.428656 -1.948088 -3.539169  0.090476  0.409644\n",
       "2     1.237580 -4.089656  0.436131 -1.419806  1.687714 -1.219411\n",
       "3    -1.693621 -0.379817 -3.150195 -2.514710  1.115984  0.616934\n",
       "4    -3.938794  6.622288  0.359497 -1.642777  0.120389  0.236218\n",
       "...        ...       ...       ...       ...       ...       ...\n",
       "4928 -6.496998  4.274665  0.779084  1.123460 -1.252386  0.540070\n",
       "4929 -0.904891  7.052396  1.316040 -4.503613  0.289943 -1.897231\n",
       "4930 -6.894614 -3.407619  1.663804 -2.198791  0.154412  0.638922\n",
       "4931  1.095753  0.210538 -5.056835  0.395941  1.936080  1.205283\n",
       "4932  9.320994 -3.662750  0.455221 -1.386049  0.345327  0.206303\n",
       "\n",
       "[4933 rows x 6 columns]"
      ]
     },
     "execution_count": 192,
     "metadata": {},
     "output_type": "execute_result"
    }
   ],
   "source": [
    "g"
   ]
  },
  {
   "cell_type": "code",
   "execution_count": 193,
   "metadata": {},
   "outputs": [
    {
     "name": "stdout",
     "output_type": "stream",
     "text": [
      "                                 OLS Regression Results                                \n",
      "=======================================================================================\n",
      "Dep. Variable:              50_target   R-squared (uncentered):                   0.023\n",
      "Model:                            OLS   Adj. R-squared (uncentered):              0.022\n",
      "Method:                 Least Squares   F-statistic:                              19.66\n",
      "Date:                Thu, 06 Aug 2020   Prob (F-statistic):                    8.44e-23\n",
      "Time:                        16:47:56   Log-Likelihood:                         -24435.\n",
      "No. Observations:                4933   AIC:                                  4.888e+04\n",
      "Df Residuals:                    4927   BIC:                                  4.892e+04\n",
      "Df Model:                           6                                                  \n",
      "Covariance Type:            nonrobust                                                  \n",
      "==============================================================================\n",
      "                 coef    std err          t      P>|t|      [0.025      0.975]\n",
      "------------------------------------------------------------------------------\n",
      "x1            -0.2470      0.069     -3.555      0.000      -0.383      -0.111\n",
      "x2             0.3783      0.120      3.146      0.002       0.143       0.614\n",
      "x3             0.7926      0.173      4.572      0.000       0.453       1.132\n",
      "x4             1.1765      0.202      5.818      0.000       0.780       1.573\n",
      "x5            -1.1224      0.236     -4.759      0.000      -1.585      -0.660\n",
      "x6            -1.4141      0.333     -4.244      0.000      -2.067      -0.761\n",
      "==============================================================================\n",
      "Omnibus:                    19469.315   Durbin-Watson:                   1.955\n",
      "Prob(Omnibus):                  0.000   Jarque-Bera (JB):              695.688\n",
      "Skew:                           0.152   Prob(JB):                    8.58e-152\n",
      "Kurtosis:                       1.186   Cond. No.                         4.80\n",
      "==============================================================================\n",
      "\n",
      "Warnings:\n",
      "[1] Standard Errors assume that the covariance matrix of the errors is correctly specified.\n"
     ]
    }
   ],
   "source": [
    "ols_model = sm.OLS(y_train, u)\n",
    "ols_results = ols_model.fit()\n",
    "print(ols_results.summary())"
   ]
  },
  {
   "cell_type": "code",
   "execution_count": 194,
   "metadata": {},
   "outputs": [
    {
     "data": {
      "text/plain": [
       "<matplotlib.axes._subplots.AxesSubplot at 0x1b3166cf8c8>"
      ]
     },
     "execution_count": 194,
     "metadata": {},
     "output_type": "execute_result"
    },
    {
     "data": {
      "image/png": "[encoded data removed]",
      "text/plain": [
       "<Figure size 432x288 with 1 Axes>"
      ]
     },
     "metadata": {
      "needs_background": "light"
     },
     "output_type": "display_data"
    }
   ],
   "source": [
    "sns.kdeplot(ols_results.resid)"
   ]
  },
  {
   "cell_type": "code",
   "execution_count": 195,
   "metadata": {},
   "outputs": [
    {
     "name": "stdout",
     "output_type": "stream",
     "text": [
      "Statistics=0.794, p=0.000\n",
      "Residüler Normal dağılımdan gelmiyor (H0 reddedilir)\n"
     ]
    }
   ],
   "source": [
    "stat, p = shapiro(ols_results.resid)\n",
    "\n",
    "print('Statistics=%.3f, p=%.3f' % (stat, p))\n",
    "\n",
    "alpha = 0.05\n",
    "if p > alpha:\n",
    "    print('Residüler Dağılım normalden geliyor (H0 reddedilemez)')\n",
    "else:\n",
    "    print('Residüler Normal dağılımdan gelmiyor (H0 reddedilir)')"
   ]
  },
  {
   "cell_type": "code",
   "execution_count": null,
   "metadata": {},
   "outputs": [],
   "source": []
  },
  {
   "cell_type": "code",
   "execution_count": null,
   "metadata": {},
   "outputs": [],
   "source": []
  },
  {
   "cell_type": "code",
   "execution_count": null,
   "metadata": {},
   "outputs": [],
   "source": []
  },
  {
   "cell_type": "code",
   "execution_count": null,
   "metadata": {},
   "outputs": [],
   "source": []
  },
  {
   "cell_type": "code",
   "execution_count": null,
   "metadata": {},
   "outputs": [],
   "source": []
  },
  {
   "cell_type": "code",
   "execution_count": null,
   "metadata": {},
   "outputs": [],
   "source": []
  },
  {
   "cell_type": "code",
   "execution_count": 196,
   "metadata": {},
   "outputs": [],
   "source": [
    "from sklearn.metrics import mean_squared_error, r2_score"
   ]
  },
  {
   "cell_type": "code",
   "execution_count": 197,
   "metadata": {},
   "outputs": [
    {
     "ename": "NameError",
     "evalue": "name 'y_' is not defined",
     "output_type": "error",
     "traceback": [
      "\u001b[1;31m---------------------------------------------------------------------------\u001b[0m",
      "\u001b[1;31mNameError\u001b[0m                                 Traceback (most recent call last)",
      "\u001b[1;32m<ipython-input-197-6809667193da>\u001b[0m in \u001b[0;36m<module>\u001b[1;34m\u001b[0m\n\u001b[1;32m----> 1\u001b[1;33m \u001b[0mscore_c\u001b[0m \u001b[1;33m=\u001b[0m \u001b[0mr2_score\u001b[0m\u001b[1;33m(\u001b[0m\u001b[0my_\u001b[0m\u001b[1;33m,\u001b[0m \u001b[0my_pred\u001b[0m\u001b[1;33m)\u001b[0m\u001b[1;33m\u001b[0m\u001b[1;33m\u001b[0m\u001b[0m\n\u001b[0m\u001b[0;32m      2\u001b[0m \u001b[0mscore_cv\u001b[0m \u001b[1;33m=\u001b[0m \u001b[0mr2_score\u001b[0m\u001b[1;33m(\u001b[0m\u001b[0my\u001b[0m\u001b[1;33m,\u001b[0m \u001b[0my_pred\u001b[0m\u001b[1;33m)\u001b[0m\u001b[1;33m\u001b[0m\u001b[1;33m\u001b[0m\u001b[0m\n",
      "\u001b[1;31mNameError\u001b[0m: name 'y_' is not defined"
     ]
    }
   ],
   "source": [
    "score_c = r2_score(y_, y_pred)\n",
    "score_cv = r2_score(y, y_pred)\n"
   ]
  },
  {
   "cell_type": "code",
   "execution_count": null,
   "metadata": {},
   "outputs": [],
   "source": []
  },
  {
   "cell_type": "code",
   "execution_count": null,
   "metadata": {},
   "outputs": [],
   "source": []
  },
  {
   "cell_type": "code",
   "execution_count": null,
   "metadata": {},
   "outputs": [],
   "source": [
    "yhat = pcr_model.predict(X_reduced_test)\n",
    "SS_Residual = sum((y-yhat)**2)       \n",
    "SS_Total = sum((y-np.mean(y))**2)     \n",
    "r_squared = 1 - (float(SS_Residual))/SS_Total\n",
    "adjusted_r_squared = 1 - (1-r_squared)*(len(y)-1)/(len(y)-X.shape[1]-1)\n",
    "print (r_squared, adjusted_r_squared)"
   ]
  },
  {
   "cell_type": "code",
   "execution_count": null,
   "metadata": {},
   "outputs": [],
   "source": []
  },
  {
   "cell_type": "code",
   "execution_count": null,
   "metadata": {},
   "outputs": [],
   "source": []
  },
  {
   "cell_type": "code",
   "execution_count": null,
   "metadata": {},
   "outputs": [],
   "source": []
  }
 ],
 "metadata": {
  "kernelspec": {
   "display_name": "Python 3",
   "language": "python",
   "name": "python3"
  },
  "language_info": {
   "codemirror_mode": {
    "name": "ipython",
    "version": 3
   },
   "file_extension": ".py",
   "mimetype": "text/x-python",
   "name": "python",
   "nbconvert_exporter": "python",
   "pygments_lexer": "ipython3",
   "version": "3.7.6"
  }
 },
 "nbformat": 4,
 "nbformat_minor": 4
}
