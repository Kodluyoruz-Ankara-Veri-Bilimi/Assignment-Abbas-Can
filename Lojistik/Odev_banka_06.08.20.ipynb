{
 "cells": [
  {
   "cell_type": "code",
   "execution_count": 1,
   "metadata": {},
   "outputs": [],
   "source": [
    "import pandas as pd\n",
    "import numpy as np\n",
    "import seaborn as sns\n",
    "import matplotlib.pyplot as plt\n",
    "\n",
    "from sklearn.model_selection import train_test_split\n",
    "from sklearn.model_selection import train_test_split, cross_val_score, cross_val_predict\n",
    "from sklearn.linear_model import LogisticRegression\n",
    "\n",
    "from sklearn import metrics\n",
    "from sklearn.metrics import classification_report\n",
    "from sklearn.metrics import confusion_matrix\n",
    "from sklearn.metrics import roc_auc_score\n",
    "from sklearn.metrics import recall_score\n",
    "\n",
    "from scipy.stats import shapiro"
   ]
  },
  {
   "cell_type": "code",
   "execution_count": 2,
   "metadata": {},
   "outputs": [],
   "source": [
    "data_seti = pd.read_csv(\"hmelq.csv\")\n",
    "\n",
    "df = data_seti.copy()"
   ]
  },
  {
   "cell_type": "code",
   "execution_count": 3,
   "metadata": {},
   "outputs": [
    {
     "data": {
      "text/html": [
       "<div>\n",
       "<style scoped>\n",
       "    .dataframe tbody tr th:only-of-type {\n",
       "        vertical-align: middle;\n",
       "    }\n",
       "\n",
       "    .dataframe tbody tr th {\n",
       "        vertical-align: top;\n",
       "    }\n",
       "\n",
       "    .dataframe thead th {\n",
       "        text-align: right;\n",
       "    }\n",
       "</style>\n",
       "<table border=\"1\" class=\"dataframe\">\n",
       "  <thead>\n",
       "    <tr style=\"text-align: right;\">\n",
       "      <th></th>\n",
       "      <th>bad</th>\n",
       "      <th>loan</th>\n",
       "      <th>mortdue</th>\n",
       "      <th>value</th>\n",
       "      <th>reason</th>\n",
       "      <th>job</th>\n",
       "      <th>yoj</th>\n",
       "      <th>derog</th>\n",
       "      <th>delinq</th>\n",
       "      <th>clage</th>\n",
       "      <th>ninq</th>\n",
       "      <th>clno</th>\n",
       "      <th>debtinc</th>\n",
       "    </tr>\n",
       "  </thead>\n",
       "  <tbody>\n",
       "    <tr>\n",
       "      <th>0</th>\n",
       "      <td>0</td>\n",
       "      <td>81200</td>\n",
       "      <td>18834.0</td>\n",
       "      <td>108355.0</td>\n",
       "      <td>HomeImp</td>\n",
       "      <td>NaN</td>\n",
       "      <td>28.0</td>\n",
       "      <td>0.0</td>\n",
       "      <td>0.0</td>\n",
       "      <td>139.14</td>\n",
       "      <td>0.0</td>\n",
       "      <td>14.0</td>\n",
       "      <td>34.042</td>\n",
       "    </tr>\n",
       "    <tr>\n",
       "      <th>1</th>\n",
       "      <td>0</td>\n",
       "      <td>12600</td>\n",
       "      <td>103960.0</td>\n",
       "      <td>127384.0</td>\n",
       "      <td>DebtCon</td>\n",
       "      <td>NaN</td>\n",
       "      <td>2.0</td>\n",
       "      <td>0.0</td>\n",
       "      <td>0.0</td>\n",
       "      <td>129.02</td>\n",
       "      <td>0.0</td>\n",
       "      <td>25.0</td>\n",
       "      <td>34.479</td>\n",
       "    </tr>\n",
       "    <tr>\n",
       "      <th>2</th>\n",
       "      <td>0</td>\n",
       "      <td>18000</td>\n",
       "      <td>46865.0</td>\n",
       "      <td>61266.0</td>\n",
       "      <td>DebtCon</td>\n",
       "      <td>NaN</td>\n",
       "      <td>5.0</td>\n",
       "      <td>0.0</td>\n",
       "      <td>0.0</td>\n",
       "      <td>102.59</td>\n",
       "      <td>2.0</td>\n",
       "      <td>9.0</td>\n",
       "      <td>26.354</td>\n",
       "    </tr>\n",
       "    <tr>\n",
       "      <th>3</th>\n",
       "      <td>0</td>\n",
       "      <td>10300</td>\n",
       "      <td>57676.0</td>\n",
       "      <td>71027.0</td>\n",
       "      <td>DebtCon</td>\n",
       "      <td>NaN</td>\n",
       "      <td>19.0</td>\n",
       "      <td>0.0</td>\n",
       "      <td>0.0</td>\n",
       "      <td>157.52</td>\n",
       "      <td>1.0</td>\n",
       "      <td>11.0</td>\n",
       "      <td>33.992</td>\n",
       "    </tr>\n",
       "    <tr>\n",
       "      <th>4</th>\n",
       "      <td>0</td>\n",
       "      <td>9400</td>\n",
       "      <td>56508.0</td>\n",
       "      <td>78358.0</td>\n",
       "      <td>DebtCon</td>\n",
       "      <td>NaN</td>\n",
       "      <td>17.0</td>\n",
       "      <td>0.0</td>\n",
       "      <td>0.0</td>\n",
       "      <td>141.93</td>\n",
       "      <td>0.0</td>\n",
       "      <td>11.0</td>\n",
       "      <td>32.327</td>\n",
       "    </tr>\n",
       "  </tbody>\n",
       "</table>\n",
       "</div>"
      ],
      "text/plain": [
       "   bad   loan   mortdue     value   reason  job   yoj  derog  delinq   clage  \\\n",
       "0    0  81200   18834.0  108355.0  HomeImp  NaN  28.0    0.0     0.0  139.14   \n",
       "1    0  12600  103960.0  127384.0  DebtCon  NaN   2.0    0.0     0.0  129.02   \n",
       "2    0  18000   46865.0   61266.0  DebtCon  NaN   5.0    0.0     0.0  102.59   \n",
       "3    0  10300   57676.0   71027.0  DebtCon  NaN  19.0    0.0     0.0  157.52   \n",
       "4    0   9400   56508.0   78358.0  DebtCon  NaN  17.0    0.0     0.0  141.93   \n",
       "\n",
       "   ninq  clno  debtinc  \n",
       "0   0.0  14.0   34.042  \n",
       "1   0.0  25.0   34.479  \n",
       "2   2.0   9.0   26.354  \n",
       "3   1.0  11.0   33.992  \n",
       "4   0.0  11.0   32.327  "
      ]
     },
     "execution_count": 3,
     "metadata": {},
     "output_type": "execute_result"
    }
   ],
   "source": [
    "df.head(5)"
   ]
  },
  {
   "cell_type": "code",
   "execution_count": 4,
   "metadata": {},
   "outputs": [
    {
     "name": "stdout",
     "output_type": "stream",
     "text": [
      "<class 'pandas.core.frame.DataFrame'>\n",
      "RangeIndex: 3576 entries, 0 to 3575\n",
      "Data columns (total 13 columns):\n",
      " #   Column   Non-Null Count  Dtype  \n",
      "---  ------   --------------  -----  \n",
      " 0   bad      3576 non-null   int64  \n",
      " 1   loan     3576 non-null   int64  \n",
      " 2   mortdue  3262 non-null   float64\n",
      " 3   value    3512 non-null   float64\n",
      " 4   reason   3429 non-null   object \n",
      " 5   job      3409 non-null   object \n",
      " 6   yoj      3264 non-null   float64\n",
      " 7   derog    3149 non-null   float64\n",
      " 8   delinq   3225 non-null   float64\n",
      " 9   clage    3397 non-null   float64\n",
      " 10  ninq     3273 non-null   float64\n",
      " 11  clno     3443 non-null   float64\n",
      " 12  debtinc  2809 non-null   float64\n",
      "dtypes: float64(9), int64(2), object(2)\n",
      "memory usage: 363.3+ KB\n"
     ]
    }
   ],
   "source": [
    "df.info()"
   ]
  },
  {
   "cell_type": "code",
   "execution_count": 5,
   "metadata": {},
   "outputs": [
    {
     "data": {
      "text/plain": [
       "bad          0\n",
       "loan         0\n",
       "mortdue    314\n",
       "value       64\n",
       "reason     147\n",
       "job        167\n",
       "yoj        312\n",
       "derog      427\n",
       "delinq     351\n",
       "clage      179\n",
       "ninq       303\n",
       "clno       133\n",
       "debtinc    767\n",
       "dtype: int64"
      ]
     },
     "execution_count": 5,
     "metadata": {},
     "output_type": "execute_result"
    }
   ],
   "source": [
    "df.isnull().sum()"
   ]
  },
  {
   "cell_type": "code",
   "execution_count": 6,
   "metadata": {},
   "outputs": [],
   "source": [
    "df.fillna(df.median(), inplace = True)\n",
    "df.dropna(inplace = True)"
   ]
  },
  {
   "cell_type": "code",
   "execution_count": 7,
   "metadata": {},
   "outputs": [
    {
     "data": {
      "text/plain": [
       "bad        0\n",
       "loan       0\n",
       "mortdue    0\n",
       "value      0\n",
       "reason     0\n",
       "job        0\n",
       "yoj        0\n",
       "derog      0\n",
       "delinq     0\n",
       "clage      0\n",
       "ninq       0\n",
       "clno       0\n",
       "debtinc    0\n",
       "dtype: int64"
      ]
     },
     "execution_count": 7,
     "metadata": {},
     "output_type": "execute_result"
    }
   ],
   "source": [
    "df.isnull().sum()"
   ]
  },
  {
   "cell_type": "code",
   "execution_count": 8,
   "metadata": {},
   "outputs": [],
   "source": [
    "df_dummies = pd.get_dummies(df)"
   ]
  },
  {
   "cell_type": "code",
   "execution_count": 9,
   "metadata": {},
   "outputs": [
    {
     "data": {
      "text/html": [
       "<div>\n",
       "<style scoped>\n",
       "    .dataframe tbody tr th:only-of-type {\n",
       "        vertical-align: middle;\n",
       "    }\n",
       "\n",
       "    .dataframe tbody tr th {\n",
       "        vertical-align: top;\n",
       "    }\n",
       "\n",
       "    .dataframe thead th {\n",
       "        text-align: right;\n",
       "    }\n",
       "</style>\n",
       "<table border=\"1\" class=\"dataframe\">\n",
       "  <thead>\n",
       "    <tr style=\"text-align: right;\">\n",
       "      <th></th>\n",
       "      <th>bad</th>\n",
       "      <th>loan</th>\n",
       "      <th>mortdue</th>\n",
       "      <th>value</th>\n",
       "      <th>yoj</th>\n",
       "      <th>derog</th>\n",
       "      <th>delinq</th>\n",
       "      <th>clage</th>\n",
       "      <th>ninq</th>\n",
       "      <th>clno</th>\n",
       "      <th>debtinc</th>\n",
       "      <th>reason_DebtCon</th>\n",
       "      <th>reason_HomeImp</th>\n",
       "      <th>job_Mgr</th>\n",
       "      <th>job_Office</th>\n",
       "      <th>job_Other</th>\n",
       "      <th>job_ProfEx</th>\n",
       "      <th>job_Sales</th>\n",
       "      <th>job_Self</th>\n",
       "    </tr>\n",
       "  </thead>\n",
       "  <tbody>\n",
       "    <tr>\n",
       "      <th>bad</th>\n",
       "      <td>1.000000</td>\n",
       "      <td>-0.083244</td>\n",
       "      <td>-0.059522</td>\n",
       "      <td>-0.061372</td>\n",
       "      <td>-0.045430</td>\n",
       "      <td>0.254349</td>\n",
       "      <td>0.333551</td>\n",
       "      <td>-0.148922</td>\n",
       "      <td>0.160814</td>\n",
       "      <td>-0.027184</td>\n",
       "      <td>0.167131</td>\n",
       "      <td>-0.055917</td>\n",
       "      <td>0.055917</td>\n",
       "      <td>0.024583</td>\n",
       "      <td>-0.076394</td>\n",
       "      <td>0.063319</td>\n",
       "      <td>-0.056909</td>\n",
       "      <td>0.051219</td>\n",
       "      <td>0.030791</td>\n",
       "    </tr>\n",
       "    <tr>\n",
       "      <th>loan</th>\n",
       "      <td>-0.083244</td>\n",
       "      <td>1.000000</td>\n",
       "      <td>0.241816</td>\n",
       "      <td>0.339235</td>\n",
       "      <td>0.082577</td>\n",
       "      <td>0.010117</td>\n",
       "      <td>-0.033151</td>\n",
       "      <td>0.095183</td>\n",
       "      <td>0.054168</td>\n",
       "      <td>0.102584</td>\n",
       "      <td>0.066768</td>\n",
       "      <td>0.200356</td>\n",
       "      <td>-0.200356</td>\n",
       "      <td>0.023102</td>\n",
       "      <td>-0.021678</td>\n",
       "      <td>-0.049894</td>\n",
       "      <td>0.006499</td>\n",
       "      <td>-0.043737</td>\n",
       "      <td>0.157131</td>\n",
       "    </tr>\n",
       "    <tr>\n",
       "      <th>mortdue</th>\n",
       "      <td>-0.059522</td>\n",
       "      <td>0.241816</td>\n",
       "      <td>1.000000</td>\n",
       "      <td>0.820740</td>\n",
       "      <td>-0.078270</td>\n",
       "      <td>-0.054934</td>\n",
       "      <td>-0.017090</td>\n",
       "      <td>0.131150</td>\n",
       "      <td>0.027367</td>\n",
       "      <td>0.331715</td>\n",
       "      <td>0.145296</td>\n",
       "      <td>0.019648</td>\n",
       "      <td>-0.019648</td>\n",
       "      <td>0.085975</td>\n",
       "      <td>-0.055934</td>\n",
       "      <td>-0.266232</td>\n",
       "      <td>0.237845</td>\n",
       "      <td>0.015349</td>\n",
       "      <td>0.119026</td>\n",
       "    </tr>\n",
       "    <tr>\n",
       "      <th>value</th>\n",
       "      <td>-0.061372</td>\n",
       "      <td>0.339235</td>\n",
       "      <td>0.820740</td>\n",
       "      <td>1.000000</td>\n",
       "      <td>0.000794</td>\n",
       "      <td>-0.056186</td>\n",
       "      <td>-0.019705</td>\n",
       "      <td>0.172087</td>\n",
       "      <td>-0.003162</td>\n",
       "      <td>0.281464</td>\n",
       "      <td>0.104040</td>\n",
       "      <td>0.015158</td>\n",
       "      <td>-0.015158</td>\n",
       "      <td>0.041789</td>\n",
       "      <td>-0.049968</td>\n",
       "      <td>-0.278396</td>\n",
       "      <td>0.270216</td>\n",
       "      <td>0.011003</td>\n",
       "      <td>0.151905</td>\n",
       "    </tr>\n",
       "    <tr>\n",
       "      <th>yoj</th>\n",
       "      <td>-0.045430</td>\n",
       "      <td>0.082577</td>\n",
       "      <td>-0.078270</td>\n",
       "      <td>0.000794</td>\n",
       "      <td>1.000000</td>\n",
       "      <td>-0.055844</td>\n",
       "      <td>0.072655</td>\n",
       "      <td>0.166850</td>\n",
       "      <td>-0.048569</td>\n",
       "      <td>0.030658</td>\n",
       "      <td>-0.057920</td>\n",
       "      <td>-0.040321</td>\n",
       "      <td>0.040321</td>\n",
       "      <td>0.004698</td>\n",
       "      <td>-0.034086</td>\n",
       "      <td>0.039819</td>\n",
       "      <td>0.005606</td>\n",
       "      <td>-0.024313</td>\n",
       "      <td>-0.041685</td>\n",
       "    </tr>\n",
       "    <tr>\n",
       "      <th>derog</th>\n",
       "      <td>0.254349</td>\n",
       "      <td>0.010117</td>\n",
       "      <td>-0.054934</td>\n",
       "      <td>-0.056186</td>\n",
       "      <td>-0.055844</td>\n",
       "      <td>1.000000</td>\n",
       "      <td>0.174155</td>\n",
       "      <td>-0.082203</td>\n",
       "      <td>0.132061</td>\n",
       "      <td>0.030760</td>\n",
       "      <td>0.025664</td>\n",
       "      <td>-0.000385</td>\n",
       "      <td>0.000385</td>\n",
       "      <td>0.012556</td>\n",
       "      <td>-0.060142</td>\n",
       "      <td>0.056882</td>\n",
       "      <td>-0.032924</td>\n",
       "      <td>0.031759</td>\n",
       "      <td>-0.003194</td>\n",
       "    </tr>\n",
       "    <tr>\n",
       "      <th>delinq</th>\n",
       "      <td>0.333551</td>\n",
       "      <td>-0.033151</td>\n",
       "      <td>-0.017090</td>\n",
       "      <td>-0.019705</td>\n",
       "      <td>0.072655</td>\n",
       "      <td>0.174155</td>\n",
       "      <td>1.000000</td>\n",
       "      <td>0.041785</td>\n",
       "      <td>0.061985</td>\n",
       "      <td>0.137431</td>\n",
       "      <td>0.057211</td>\n",
       "      <td>-0.020263</td>\n",
       "      <td>0.020263</td>\n",
       "      <td>0.028466</td>\n",
       "      <td>0.011049</td>\n",
       "      <td>-0.016480</td>\n",
       "      <td>-0.014837</td>\n",
       "      <td>-0.018696</td>\n",
       "      <td>0.017376</td>\n",
       "    </tr>\n",
       "    <tr>\n",
       "      <th>clage</th>\n",
       "      <td>-0.148922</td>\n",
       "      <td>0.095183</td>\n",
       "      <td>0.131150</td>\n",
       "      <td>0.172087</td>\n",
       "      <td>0.166850</td>\n",
       "      <td>-0.082203</td>\n",
       "      <td>0.041785</td>\n",
       "      <td>1.000000</td>\n",
       "      <td>-0.107105</td>\n",
       "      <td>0.222985</td>\n",
       "      <td>-0.037834</td>\n",
       "      <td>-0.044446</td>\n",
       "      <td>0.044446</td>\n",
       "      <td>-0.032185</td>\n",
       "      <td>-0.009056</td>\n",
       "      <td>-0.074558</td>\n",
       "      <td>0.109945</td>\n",
       "      <td>0.037475</td>\n",
       "      <td>-0.000299</td>\n",
       "    </tr>\n",
       "    <tr>\n",
       "      <th>ninq</th>\n",
       "      <td>0.160814</td>\n",
       "      <td>0.054168</td>\n",
       "      <td>0.027367</td>\n",
       "      <td>-0.003162</td>\n",
       "      <td>-0.048569</td>\n",
       "      <td>0.132061</td>\n",
       "      <td>0.061985</td>\n",
       "      <td>-0.107105</td>\n",
       "      <td>1.000000</td>\n",
       "      <td>0.080471</td>\n",
       "      <td>0.119793</td>\n",
       "      <td>0.126195</td>\n",
       "      <td>-0.126195</td>\n",
       "      <td>0.071213</td>\n",
       "      <td>-0.061436</td>\n",
       "      <td>0.068504</td>\n",
       "      <td>-0.079161</td>\n",
       "      <td>-0.035249</td>\n",
       "      <td>0.015943</td>\n",
       "    </tr>\n",
       "    <tr>\n",
       "      <th>clno</th>\n",
       "      <td>-0.027184</td>\n",
       "      <td>0.102584</td>\n",
       "      <td>0.331715</td>\n",
       "      <td>0.281464</td>\n",
       "      <td>0.030658</td>\n",
       "      <td>0.030760</td>\n",
       "      <td>0.137431</td>\n",
       "      <td>0.222985</td>\n",
       "      <td>0.080471</td>\n",
       "      <td>1.000000</td>\n",
       "      <td>0.141077</td>\n",
       "      <td>0.103289</td>\n",
       "      <td>-0.103289</td>\n",
       "      <td>0.044844</td>\n",
       "      <td>-0.005700</td>\n",
       "      <td>-0.181850</td>\n",
       "      <td>0.149368</td>\n",
       "      <td>0.036469</td>\n",
       "      <td>0.050408</td>\n",
       "    </tr>\n",
       "    <tr>\n",
       "      <th>debtinc</th>\n",
       "      <td>0.167131</td>\n",
       "      <td>0.066768</td>\n",
       "      <td>0.145296</td>\n",
       "      <td>0.104040</td>\n",
       "      <td>-0.057920</td>\n",
       "      <td>0.025664</td>\n",
       "      <td>0.057211</td>\n",
       "      <td>-0.037834</td>\n",
       "      <td>0.119793</td>\n",
       "      <td>0.141077</td>\n",
       "      <td>1.000000</td>\n",
       "      <td>0.030225</td>\n",
       "      <td>-0.030225</td>\n",
       "      <td>0.046053</td>\n",
       "      <td>-0.006376</td>\n",
       "      <td>0.013841</td>\n",
       "      <td>-0.082114</td>\n",
       "      <td>0.054043</td>\n",
       "      <td>0.037032</td>\n",
       "    </tr>\n",
       "    <tr>\n",
       "      <th>reason_DebtCon</th>\n",
       "      <td>-0.055917</td>\n",
       "      <td>0.200356</td>\n",
       "      <td>0.019648</td>\n",
       "      <td>0.015158</td>\n",
       "      <td>-0.040321</td>\n",
       "      <td>-0.000385</td>\n",
       "      <td>-0.020263</td>\n",
       "      <td>-0.044446</td>\n",
       "      <td>0.126195</td>\n",
       "      <td>0.103289</td>\n",
       "      <td>0.030225</td>\n",
       "      <td>1.000000</td>\n",
       "      <td>-1.000000</td>\n",
       "      <td>0.063676</td>\n",
       "      <td>-0.011905</td>\n",
       "      <td>0.010290</td>\n",
       "      <td>-0.026146</td>\n",
       "      <td>0.066877</td>\n",
       "      <td>-0.115410</td>\n",
       "    </tr>\n",
       "    <tr>\n",
       "      <th>reason_HomeImp</th>\n",
       "      <td>0.055917</td>\n",
       "      <td>-0.200356</td>\n",
       "      <td>-0.019648</td>\n",
       "      <td>-0.015158</td>\n",
       "      <td>0.040321</td>\n",
       "      <td>0.000385</td>\n",
       "      <td>0.020263</td>\n",
       "      <td>0.044446</td>\n",
       "      <td>-0.126195</td>\n",
       "      <td>-0.103289</td>\n",
       "      <td>-0.030225</td>\n",
       "      <td>-1.000000</td>\n",
       "      <td>1.000000</td>\n",
       "      <td>-0.063676</td>\n",
       "      <td>0.011905</td>\n",
       "      <td>-0.010290</td>\n",
       "      <td>0.026146</td>\n",
       "      <td>-0.066877</td>\n",
       "      <td>0.115410</td>\n",
       "    </tr>\n",
       "    <tr>\n",
       "      <th>job_Mgr</th>\n",
       "      <td>0.024583</td>\n",
       "      <td>0.023102</td>\n",
       "      <td>0.085975</td>\n",
       "      <td>0.041789</td>\n",
       "      <td>0.004698</td>\n",
       "      <td>0.012556</td>\n",
       "      <td>0.028466</td>\n",
       "      <td>-0.032185</td>\n",
       "      <td>0.071213</td>\n",
       "      <td>0.044844</td>\n",
       "      <td>0.046053</td>\n",
       "      <td>0.063676</td>\n",
       "      <td>-0.063676</td>\n",
       "      <td>1.000000</td>\n",
       "      <td>-0.176307</td>\n",
       "      <td>-0.334684</td>\n",
       "      <td>-0.212521</td>\n",
       "      <td>-0.055993</td>\n",
       "      <td>-0.073121</td>\n",
       "    </tr>\n",
       "    <tr>\n",
       "      <th>job_Office</th>\n",
       "      <td>-0.076394</td>\n",
       "      <td>-0.021678</td>\n",
       "      <td>-0.055934</td>\n",
       "      <td>-0.049968</td>\n",
       "      <td>-0.034086</td>\n",
       "      <td>-0.060142</td>\n",
       "      <td>0.011049</td>\n",
       "      <td>-0.009056</td>\n",
       "      <td>-0.061436</td>\n",
       "      <td>-0.005700</td>\n",
       "      <td>-0.006376</td>\n",
       "      <td>-0.011905</td>\n",
       "      <td>0.011905</td>\n",
       "      <td>-0.176307</td>\n",
       "      <td>1.000000</td>\n",
       "      <td>-0.381032</td>\n",
       "      <td>-0.241952</td>\n",
       "      <td>-0.063747</td>\n",
       "      <td>-0.083247</td>\n",
       "    </tr>\n",
       "    <tr>\n",
       "      <th>job_Other</th>\n",
       "      <td>0.063319</td>\n",
       "      <td>-0.049894</td>\n",
       "      <td>-0.266232</td>\n",
       "      <td>-0.278396</td>\n",
       "      <td>0.039819</td>\n",
       "      <td>0.056882</td>\n",
       "      <td>-0.016480</td>\n",
       "      <td>-0.074558</td>\n",
       "      <td>0.068504</td>\n",
       "      <td>-0.181850</td>\n",
       "      <td>0.013841</td>\n",
       "      <td>0.010290</td>\n",
       "      <td>-0.010290</td>\n",
       "      <td>-0.334684</td>\n",
       "      <td>-0.381032</td>\n",
       "      <td>1.000000</td>\n",
       "      <td>-0.459299</td>\n",
       "      <td>-0.121012</td>\n",
       "      <td>-0.158028</td>\n",
       "    </tr>\n",
       "    <tr>\n",
       "      <th>job_ProfEx</th>\n",
       "      <td>-0.056909</td>\n",
       "      <td>0.006499</td>\n",
       "      <td>0.237845</td>\n",
       "      <td>0.270216</td>\n",
       "      <td>0.005606</td>\n",
       "      <td>-0.032924</td>\n",
       "      <td>-0.014837</td>\n",
       "      <td>0.109945</td>\n",
       "      <td>-0.079161</td>\n",
       "      <td>0.149368</td>\n",
       "      <td>-0.082114</td>\n",
       "      <td>-0.026146</td>\n",
       "      <td>0.026146</td>\n",
       "      <td>-0.212521</td>\n",
       "      <td>-0.241952</td>\n",
       "      <td>-0.459299</td>\n",
       "      <td>1.000000</td>\n",
       "      <td>-0.076841</td>\n",
       "      <td>-0.100347</td>\n",
       "    </tr>\n",
       "    <tr>\n",
       "      <th>job_Sales</th>\n",
       "      <td>0.051219</td>\n",
       "      <td>-0.043737</td>\n",
       "      <td>0.015349</td>\n",
       "      <td>0.011003</td>\n",
       "      <td>-0.024313</td>\n",
       "      <td>0.031759</td>\n",
       "      <td>-0.018696</td>\n",
       "      <td>0.037475</td>\n",
       "      <td>-0.035249</td>\n",
       "      <td>0.036469</td>\n",
       "      <td>0.054043</td>\n",
       "      <td>0.066877</td>\n",
       "      <td>-0.066877</td>\n",
       "      <td>-0.055993</td>\n",
       "      <td>-0.063747</td>\n",
       "      <td>-0.121012</td>\n",
       "      <td>-0.076841</td>\n",
       "      <td>1.000000</td>\n",
       "      <td>-0.026438</td>\n",
       "    </tr>\n",
       "    <tr>\n",
       "      <th>job_Self</th>\n",
       "      <td>0.030791</td>\n",
       "      <td>0.157131</td>\n",
       "      <td>0.119026</td>\n",
       "      <td>0.151905</td>\n",
       "      <td>-0.041685</td>\n",
       "      <td>-0.003194</td>\n",
       "      <td>0.017376</td>\n",
       "      <td>-0.000299</td>\n",
       "      <td>0.015943</td>\n",
       "      <td>0.050408</td>\n",
       "      <td>0.037032</td>\n",
       "      <td>-0.115410</td>\n",
       "      <td>0.115410</td>\n",
       "      <td>-0.073121</td>\n",
       "      <td>-0.083247</td>\n",
       "      <td>-0.158028</td>\n",
       "      <td>-0.100347</td>\n",
       "      <td>-0.026438</td>\n",
       "      <td>1.000000</td>\n",
       "    </tr>\n",
       "  </tbody>\n",
       "</table>\n",
       "</div>"
      ],
      "text/plain": [
       "                     bad      loan   mortdue     value       yoj     derog  \\\n",
       "bad             1.000000 -0.083244 -0.059522 -0.061372 -0.045430  0.254349   \n",
       "loan           -0.083244  1.000000  0.241816  0.339235  0.082577  0.010117   \n",
       "mortdue        -0.059522  0.241816  1.000000  0.820740 -0.078270 -0.054934   \n",
       "value          -0.061372  0.339235  0.820740  1.000000  0.000794 -0.056186   \n",
       "yoj            -0.045430  0.082577 -0.078270  0.000794  1.000000 -0.055844   \n",
       "derog           0.254349  0.010117 -0.054934 -0.056186 -0.055844  1.000000   \n",
       "delinq          0.333551 -0.033151 -0.017090 -0.019705  0.072655  0.174155   \n",
       "clage          -0.148922  0.095183  0.131150  0.172087  0.166850 -0.082203   \n",
       "ninq            0.160814  0.054168  0.027367 -0.003162 -0.048569  0.132061   \n",
       "clno           -0.027184  0.102584  0.331715  0.281464  0.030658  0.030760   \n",
       "debtinc         0.167131  0.066768  0.145296  0.104040 -0.057920  0.025664   \n",
       "reason_DebtCon -0.055917  0.200356  0.019648  0.015158 -0.040321 -0.000385   \n",
       "reason_HomeImp  0.055917 -0.200356 -0.019648 -0.015158  0.040321  0.000385   \n",
       "job_Mgr         0.024583  0.023102  0.085975  0.041789  0.004698  0.012556   \n",
       "job_Office     -0.076394 -0.021678 -0.055934 -0.049968 -0.034086 -0.060142   \n",
       "job_Other       0.063319 -0.049894 -0.266232 -0.278396  0.039819  0.056882   \n",
       "job_ProfEx     -0.056909  0.006499  0.237845  0.270216  0.005606 -0.032924   \n",
       "job_Sales       0.051219 -0.043737  0.015349  0.011003 -0.024313  0.031759   \n",
       "job_Self        0.030791  0.157131  0.119026  0.151905 -0.041685 -0.003194   \n",
       "\n",
       "                  delinq     clage      ninq      clno   debtinc  \\\n",
       "bad             0.333551 -0.148922  0.160814 -0.027184  0.167131   \n",
       "loan           -0.033151  0.095183  0.054168  0.102584  0.066768   \n",
       "mortdue        -0.017090  0.131150  0.027367  0.331715  0.145296   \n",
       "value          -0.019705  0.172087 -0.003162  0.281464  0.104040   \n",
       "yoj             0.072655  0.166850 -0.048569  0.030658 -0.057920   \n",
       "derog           0.174155 -0.082203  0.132061  0.030760  0.025664   \n",
       "delinq          1.000000  0.041785  0.061985  0.137431  0.057211   \n",
       "clage           0.041785  1.000000 -0.107105  0.222985 -0.037834   \n",
       "ninq            0.061985 -0.107105  1.000000  0.080471  0.119793   \n",
       "clno            0.137431  0.222985  0.080471  1.000000  0.141077   \n",
       "debtinc         0.057211 -0.037834  0.119793  0.141077  1.000000   \n",
       "reason_DebtCon -0.020263 -0.044446  0.126195  0.103289  0.030225   \n",
       "reason_HomeImp  0.020263  0.044446 -0.126195 -0.103289 -0.030225   \n",
       "job_Mgr         0.028466 -0.032185  0.071213  0.044844  0.046053   \n",
       "job_Office      0.011049 -0.009056 -0.061436 -0.005700 -0.006376   \n",
       "job_Other      -0.016480 -0.074558  0.068504 -0.181850  0.013841   \n",
       "job_ProfEx     -0.014837  0.109945 -0.079161  0.149368 -0.082114   \n",
       "job_Sales      -0.018696  0.037475 -0.035249  0.036469  0.054043   \n",
       "job_Self        0.017376 -0.000299  0.015943  0.050408  0.037032   \n",
       "\n",
       "                reason_DebtCon  reason_HomeImp   job_Mgr  job_Office  \\\n",
       "bad                  -0.055917        0.055917  0.024583   -0.076394   \n",
       "loan                  0.200356       -0.200356  0.023102   -0.021678   \n",
       "mortdue               0.019648       -0.019648  0.085975   -0.055934   \n",
       "value                 0.015158       -0.015158  0.041789   -0.049968   \n",
       "yoj                  -0.040321        0.040321  0.004698   -0.034086   \n",
       "derog                -0.000385        0.000385  0.012556   -0.060142   \n",
       "delinq               -0.020263        0.020263  0.028466    0.011049   \n",
       "clage                -0.044446        0.044446 -0.032185   -0.009056   \n",
       "ninq                  0.126195       -0.126195  0.071213   -0.061436   \n",
       "clno                  0.103289       -0.103289  0.044844   -0.005700   \n",
       "debtinc               0.030225       -0.030225  0.046053   -0.006376   \n",
       "reason_DebtCon        1.000000       -1.000000  0.063676   -0.011905   \n",
       "reason_HomeImp       -1.000000        1.000000 -0.063676    0.011905   \n",
       "job_Mgr               0.063676       -0.063676  1.000000   -0.176307   \n",
       "job_Office           -0.011905        0.011905 -0.176307    1.000000   \n",
       "job_Other             0.010290       -0.010290 -0.334684   -0.381032   \n",
       "job_ProfEx           -0.026146        0.026146 -0.212521   -0.241952   \n",
       "job_Sales             0.066877       -0.066877 -0.055993   -0.063747   \n",
       "job_Self             -0.115410        0.115410 -0.073121   -0.083247   \n",
       "\n",
       "                job_Other  job_ProfEx  job_Sales  job_Self  \n",
       "bad              0.063319   -0.056909   0.051219  0.030791  \n",
       "loan            -0.049894    0.006499  -0.043737  0.157131  \n",
       "mortdue         -0.266232    0.237845   0.015349  0.119026  \n",
       "value           -0.278396    0.270216   0.011003  0.151905  \n",
       "yoj              0.039819    0.005606  -0.024313 -0.041685  \n",
       "derog            0.056882   -0.032924   0.031759 -0.003194  \n",
       "delinq          -0.016480   -0.014837  -0.018696  0.017376  \n",
       "clage           -0.074558    0.109945   0.037475 -0.000299  \n",
       "ninq             0.068504   -0.079161  -0.035249  0.015943  \n",
       "clno            -0.181850    0.149368   0.036469  0.050408  \n",
       "debtinc          0.013841   -0.082114   0.054043  0.037032  \n",
       "reason_DebtCon   0.010290   -0.026146   0.066877 -0.115410  \n",
       "reason_HomeImp  -0.010290    0.026146  -0.066877  0.115410  \n",
       "job_Mgr         -0.334684   -0.212521  -0.055993 -0.073121  \n",
       "job_Office      -0.381032   -0.241952  -0.063747 -0.083247  \n",
       "job_Other        1.000000   -0.459299  -0.121012 -0.158028  \n",
       "job_ProfEx      -0.459299    1.000000  -0.076841 -0.100347  \n",
       "job_Sales       -0.121012   -0.076841   1.000000 -0.026438  \n",
       "job_Self        -0.158028   -0.100347  -0.026438  1.000000  "
      ]
     },
     "execution_count": 9,
     "metadata": {},
     "output_type": "execute_result"
    }
   ],
   "source": [
    "df_dummies.corr()"
   ]
  },
  {
   "cell_type": "code",
   "execution_count": 10,
   "metadata": {},
   "outputs": [],
   "source": [
    "X = df_dummies.drop(\"bad\", axis = 1)\n",
    "y = df_dummies[\"bad\"]\n",
    "X_train , X_test, y_train, y_test = train_test_split(X, y , test_size = 0.25, random_state = 42)\n",
    "logistic = LogisticRegression(solver=\"newton-cg\")"
   ]
  },
  {
   "cell_type": "code",
   "execution_count": 11,
   "metadata": {},
   "outputs": [
    {
     "name": "stderr",
     "output_type": "stream",
     "text": [
      "C:\\Users\\abbas\\anaconda3\\lib\\site-packages\\sklearn\\utils\\optimize.py:212: ConvergenceWarning: newton-cg failed to converge. Increase the number of iterations.\n",
      "  \"number of iterations.\", ConvergenceWarning)\n"
     ]
    }
   ],
   "source": [
    "logistic_model = logistic.fit(X_train, y_train)"
   ]
  },
  {
   "cell_type": "code",
   "execution_count": 12,
   "metadata": {},
   "outputs": [],
   "source": [
    "y_pred = logistic_model.predict(X_test)"
   ]
  },
  {
   "cell_type": "code",
   "execution_count": 13,
   "metadata": {},
   "outputs": [
    {
     "data": {
      "text/plain": [
       "array([-1.59841256])"
      ]
     },
     "execution_count": 13,
     "metadata": {},
     "output_type": "execute_result"
    }
   ],
   "source": [
    "logistic_model.intercept_"
   ]
  },
  {
   "cell_type": "code",
   "execution_count": 14,
   "metadata": {},
   "outputs": [
    {
     "data": {
      "text/plain": [
       "array([[-1.83192688e-05, -3.16729873e-06,  1.67163134e-06,\n",
       "        -9.19870869e-03,  4.42625880e-01,  7.53876417e-01,\n",
       "        -5.15046683e-03,  1.67698835e-01, -1.22779396e-02,\n",
       "         6.61245020e-02, -9.22438533e-01, -4.83314515e-01,\n",
       "        -3.17396064e-01, -9.47157092e-01, -3.58274078e-01,\n",
       "        -4.81868429e-01,  5.56120337e-01,  1.42822278e-01]])"
      ]
     },
     "execution_count": 14,
     "metadata": {},
     "output_type": "execute_result"
    }
   ],
   "source": [
    "logistic_model.coef_"
   ]
  },
  {
   "cell_type": "code",
   "execution_count": 15,
   "metadata": {},
   "outputs": [],
   "source": [
    "logistic_roc_auc = roc_auc_score(y_test, y_pred)"
   ]
  },
  {
   "cell_type": "code",
   "execution_count": 16,
   "metadata": {},
   "outputs": [
    {
     "data": {
      "text/plain": [
       "0.631544196539107"
      ]
     },
     "execution_count": 16,
     "metadata": {},
     "output_type": "execute_result"
    }
   ],
   "source": [
    "logistic_roc_auc"
   ]
  },
  {
   "cell_type": "code",
   "execution_count": null,
   "metadata": {},
   "outputs": [],
   "source": []
  },
  {
   "cell_type": "code",
   "execution_count": null,
   "metadata": {},
   "outputs": [],
   "source": []
  },
  {
   "cell_type": "code",
   "execution_count": null,
   "metadata": {},
   "outputs": [],
   "source": []
  },
  {
   "cell_type": "code",
   "execution_count": 125,
   "metadata": {},
   "outputs": [],
   "source": [
    "confusion_matrix = confusion_matrix(y_test, y_pred)"
   ]
  },
  {
   "cell_type": "code",
   "execution_count": 126,
   "metadata": {},
   "outputs": [
    {
     "data": {
      "text/plain": [
       "array([[648,  21],\n",
       "       [115,  48]], dtype=int64)"
      ]
     },
     "execution_count": 126,
     "metadata": {},
     "output_type": "execute_result"
    }
   ],
   "source": [
    "confusion_matrix"
   ]
  },
  {
   "cell_type": "code",
   "execution_count": 123,
   "metadata": {},
   "outputs": [],
   "source": [
    "sonuc = metrics.accuracy_score(y_test, y_pred)"
   ]
  },
  {
   "cell_type": "code",
   "execution_count": 124,
   "metadata": {},
   "outputs": [
    {
     "data": {
      "text/plain": [
       "0.8365384615384616"
      ]
     },
     "execution_count": 124,
     "metadata": {},
     "output_type": "execute_result"
    }
   ],
   "source": [
    "sonuc"
   ]
  },
  {
   "cell_type": "code",
   "execution_count": 127,
   "metadata": {},
   "outputs": [
    {
     "name": "stdout",
     "output_type": "stream",
     "text": [
      "              precision    recall  f1-score   support\n",
      "\n",
      "           0       0.85      0.97      0.91       669\n",
      "           1       0.70      0.29      0.41       163\n",
      "\n",
      "    accuracy                           0.84       832\n",
      "   macro avg       0.77      0.63      0.66       832\n",
      "weighted avg       0.82      0.84      0.81       832\n",
      "\n"
     ]
    }
   ],
   "source": [
    "print(classification_report(y_test, y_pred))"
   ]
  },
  {
   "cell_type": "code",
   "execution_count": 17,
   "metadata": {},
   "outputs": [],
   "source": [
    "y_probs = logistic_model.predict_proba(X_test)[:,1]"
   ]
  },
  {
   "cell_type": "code",
   "execution_count": 18,
   "metadata": {},
   "outputs": [
    {
     "data": {
      "text/plain": [
       "array([0.02096097, 0.28617709, 0.07672394, 0.13333938, 0.02759824,\n",
       "       0.1107366 , 0.30119165, 0.13512214, 0.0423794 , 0.11432615,\n",
       "       0.11680012, 0.30928581])"
      ]
     },
     "execution_count": 18,
     "metadata": {},
     "output_type": "execute_result"
    }
   ],
   "source": [
    "y_probs[:12]"
   ]
  },
  {
   "cell_type": "code",
   "execution_count": 86,
   "metadata": {},
   "outputs": [],
   "source": [
    "y_pred2 = [1 if i > 0.32 else 0 for i in y_probs]\n",
    "y_pred_new = np.array(y_pred2)"
   ]
  },
  {
   "cell_type": "code",
   "execution_count": 87,
   "metadata": {},
   "outputs": [
    {
     "data": {
      "text/plain": [
       "array([[608,  61],\n",
       "       [ 81,  82]], dtype=int64)"
      ]
     },
     "execution_count": 87,
     "metadata": {},
     "output_type": "execute_result"
    }
   ],
   "source": [
    "confusion_matrix(y_test, y_pred_new)"
   ]
  },
  {
   "cell_type": "code",
   "execution_count": 88,
   "metadata": {},
   "outputs": [
    {
     "name": "stdout",
     "output_type": "stream",
     "text": [
      "              precision    recall  f1-score   support\n",
      "\n",
      "           0       0.88      0.91      0.90       669\n",
      "           1       0.57      0.50      0.54       163\n",
      "\n",
      "    accuracy                           0.83       832\n",
      "   macro avg       0.73      0.71      0.72       832\n",
      "weighted avg       0.82      0.83      0.83       832\n",
      "\n"
     ]
    }
   ],
   "source": [
    "print(classification_report(y_test, y_pred_new))"
   ]
  },
  {
   "cell_type": "code",
   "execution_count": 37,
   "metadata": {},
   "outputs": [
    {
     "name": "stdout",
     "output_type": "stream",
     "text": [
      "              precision    recall  f1-score   support\n",
      "\n",
      "           0       0.88      0.92      0.90       669\n",
      "           1       0.59      0.46      0.52       163\n",
      "\n",
      "    accuracy                           0.83       832\n",
      "   macro avg       0.73      0.69      0.71       832\n",
      "weighted avg       0.82      0.83      0.82       832\n",
      "\n"
     ]
    }
   ],
   "source": [
    "print(classification_report(y_test, y_pred_new))"
   ]
  },
  {
   "cell_type": "code",
   "execution_count": 91,
   "metadata": {},
   "outputs": [],
   "source": [
    "sonuc = metrics.accuracy_score(y_test, y_pred_new)"
   ]
  },
  {
   "cell_type": "code",
   "execution_count": 92,
   "metadata": {},
   "outputs": [
    {
     "data": {
      "text/plain": [
       "0.8293269230769231"
      ]
     },
     "execution_count": 92,
     "metadata": {},
     "output_type": "execute_result"
    }
   ],
   "source": [
    "sonuc"
   ]
  },
  {
   "cell_type": "code",
   "execution_count": 89,
   "metadata": {},
   "outputs": [],
   "source": [
    "logistic_roc_auc = roc_auc_score(y_test, y_pred_new)"
   ]
  },
  {
   "cell_type": "code",
   "execution_count": 90,
   "metadata": {},
   "outputs": [
    {
     "data": {
      "text/plain": [
       "0.7059433088484781"
      ]
     },
     "execution_count": 90,
     "metadata": {},
     "output_type": "execute_result"
    }
   ],
   "source": [
    "logistic_roc_auc"
   ]
  },
  {
   "cell_type": "code",
   "execution_count": null,
   "metadata": {},
   "outputs": [],
   "source": []
  },
  {
   "cell_type": "code",
   "execution_count": 152,
   "metadata": {},
   "outputs": [
    {
     "name": "stderr",
     "output_type": "stream",
     "text": [
      "C:\\Users\\abbas\\anaconda3\\lib\\site-packages\\scipy\\optimize\\linesearch.py:466: LineSearchWarning: The line search algorithm did not converge\n",
      "  warn('The line search algorithm did not converge', LineSearchWarning)\n",
      "C:\\Users\\abbas\\anaconda3\\lib\\site-packages\\scipy\\optimize\\linesearch.py:314: LineSearchWarning: The line search algorithm did not converge\n",
      "  warn('The line search algorithm did not converge', LineSearchWarning)\n",
      "C:\\Users\\abbas\\anaconda3\\lib\\site-packages\\sklearn\\utils\\optimize.py:212: ConvergenceWarning: newton-cg failed to converge. Increase the number of iterations.\n",
      "  \"number of iterations.\", ConvergenceWarning)\n",
      "C:\\Users\\abbas\\anaconda3\\lib\\site-packages\\sklearn\\utils\\optimize.py:212: ConvergenceWarning: newton-cg failed to converge. Increase the number of iterations.\n",
      "  \"number of iterations.\", ConvergenceWarning)\n",
      "C:\\Users\\abbas\\anaconda3\\lib\\site-packages\\scipy\\optimize\\linesearch.py:466: LineSearchWarning: The line search algorithm did not converge\n",
      "  warn('The line search algorithm did not converge', LineSearchWarning)\n",
      "C:\\Users\\abbas\\anaconda3\\lib\\site-packages\\scipy\\optimize\\linesearch.py:314: LineSearchWarning: The line search algorithm did not converge\n",
      "  warn('The line search algorithm did not converge', LineSearchWarning)\n",
      "C:\\Users\\abbas\\anaconda3\\lib\\site-packages\\scipy\\optimize\\linesearch.py:466: LineSearchWarning: The line search algorithm did not converge\n",
      "  warn('The line search algorithm did not converge', LineSearchWarning)\n",
      "C:\\Users\\abbas\\anaconda3\\lib\\site-packages\\scipy\\optimize\\linesearch.py:314: LineSearchWarning: The line search algorithm did not converge\n",
      "  warn('The line search algorithm did not converge', LineSearchWarning)\n",
      "C:\\Users\\abbas\\anaconda3\\lib\\site-packages\\sklearn\\utils\\optimize.py:212: ConvergenceWarning: newton-cg failed to converge. Increase the number of iterations.\n",
      "  \"number of iterations.\", ConvergenceWarning)\n",
      "C:\\Users\\abbas\\anaconda3\\lib\\site-packages\\scipy\\optimize\\linesearch.py:466: LineSearchWarning: The line search algorithm did not converge\n",
      "  warn('The line search algorithm did not converge', LineSearchWarning)\n",
      "C:\\Users\\abbas\\anaconda3\\lib\\site-packages\\scipy\\optimize\\linesearch.py:314: LineSearchWarning: The line search algorithm did not converge\n",
      "  warn('The line search algorithm did not converge', LineSearchWarning)\n",
      "C:\\Users\\abbas\\anaconda3\\lib\\site-packages\\sklearn\\utils\\optimize.py:212: ConvergenceWarning: newton-cg failed to converge. Increase the number of iterations.\n",
      "  \"number of iterations.\", ConvergenceWarning)\n",
      "C:\\Users\\abbas\\anaconda3\\lib\\site-packages\\sklearn\\utils\\optimize.py:212: ConvergenceWarning: newton-cg failed to converge. Increase the number of iterations.\n",
      "  \"number of iterations.\", ConvergenceWarning)\n",
      "C:\\Users\\abbas\\anaconda3\\lib\\site-packages\\sklearn\\utils\\optimize.py:212: ConvergenceWarning: newton-cg failed to converge. Increase the number of iterations.\n",
      "  \"number of iterations.\", ConvergenceWarning)\n",
      "C:\\Users\\abbas\\anaconda3\\lib\\site-packages\\sklearn\\utils\\optimize.py:212: ConvergenceWarning: newton-cg failed to converge. Increase the number of iterations.\n",
      "  \"number of iterations.\", ConvergenceWarning)\n",
      "C:\\Users\\abbas\\anaconda3\\lib\\site-packages\\sklearn\\utils\\optimize.py:212: ConvergenceWarning: newton-cg failed to converge. Increase the number of iterations.\n",
      "  \"number of iterations.\", ConvergenceWarning)\n",
      "C:\\Users\\abbas\\anaconda3\\lib\\site-packages\\scipy\\optimize\\linesearch.py:466: LineSearchWarning: The line search algorithm did not converge\n",
      "  warn('The line search algorithm did not converge', LineSearchWarning)\n",
      "C:\\Users\\abbas\\anaconda3\\lib\\site-packages\\scipy\\optimize\\linesearch.py:314: LineSearchWarning: The line search algorithm did not converge\n",
      "  warn('The line search algorithm did not converge', LineSearchWarning)\n",
      "C:\\Users\\abbas\\anaconda3\\lib\\site-packages\\sklearn\\utils\\optimize.py:212: ConvergenceWarning: newton-cg failed to converge. Increase the number of iterations.\n",
      "  \"number of iterations.\", ConvergenceWarning)\n",
      "C:\\Users\\abbas\\anaconda3\\lib\\site-packages\\scipy\\optimize\\linesearch.py:466: LineSearchWarning: The line search algorithm did not converge\n",
      "  warn('The line search algorithm did not converge', LineSearchWarning)\n",
      "C:\\Users\\abbas\\anaconda3\\lib\\site-packages\\scipy\\optimize\\linesearch.py:314: LineSearchWarning: The line search algorithm did not converge\n",
      "  warn('The line search algorithm did not converge', LineSearchWarning)\n",
      "C:\\Users\\abbas\\anaconda3\\lib\\site-packages\\scipy\\optimize\\linesearch.py:466: LineSearchWarning: The line search algorithm did not converge\n",
      "  warn('The line search algorithm did not converge', LineSearchWarning)\n",
      "C:\\Users\\abbas\\anaconda3\\lib\\site-packages\\scipy\\optimize\\linesearch.py:314: LineSearchWarning: The line search algorithm did not converge\n",
      "  warn('The line search algorithm did not converge', LineSearchWarning)\n",
      "C:\\Users\\abbas\\anaconda3\\lib\\site-packages\\scipy\\optimize\\linesearch.py:466: LineSearchWarning: The line search algorithm did not converge\n",
      "  warn('The line search algorithm did not converge', LineSearchWarning)\n",
      "C:\\Users\\abbas\\anaconda3\\lib\\site-packages\\scipy\\optimize\\linesearch.py:314: LineSearchWarning: The line search algorithm did not converge\n",
      "  warn('The line search algorithm did not converge', LineSearchWarning)\n",
      "C:\\Users\\abbas\\anaconda3\\lib\\site-packages\\scipy\\optimize\\linesearch.py:466: LineSearchWarning: The line search algorithm did not converge\n",
      "  warn('The line search algorithm did not converge', LineSearchWarning)\n",
      "C:\\Users\\abbas\\anaconda3\\lib\\site-packages\\scipy\\optimize\\linesearch.py:314: LineSearchWarning: The line search algorithm did not converge\n",
      "  warn('The line search algorithm did not converge', LineSearchWarning)\n",
      "C:\\Users\\abbas\\anaconda3\\lib\\site-packages\\sklearn\\utils\\optimize.py:212: ConvergenceWarning: newton-cg failed to converge. Increase the number of iterations.\n",
      "  \"number of iterations.\", ConvergenceWarning)\n"
     ]
    },
    {
     "data": {
      "text/plain": [
       "0.8353700516351118"
      ]
     },
     "execution_count": 152,
     "metadata": {},
     "output_type": "execute_result"
    }
   ],
   "source": [
    "cross_val_score(logistic_model, X_test, y_test, cv = 10).mean()"
   ]
  },
  {
   "cell_type": "code",
   "execution_count": null,
   "metadata": {},
   "outputs": [],
   "source": []
  },
  {
   "cell_type": "code",
   "execution_count": null,
   "metadata": {},
   "outputs": [],
   "source": []
  }
 ],
 "metadata": {
  "kernelspec": {
   "display_name": "Python 3",
   "language": "python",
   "name": "python3"
  },
  "language_info": {
   "codemirror_mode": {
    "name": "ipython",
    "version": 3
   },
   "file_extension": ".py",
   "mimetype": "text/x-python",
   "name": "python",
   "nbconvert_exporter": "python",
   "pygments_lexer": "ipython3",
   "version": "3.7.6"
  }
 },
 "nbformat": 4,
 "nbformat_minor": 4
}
